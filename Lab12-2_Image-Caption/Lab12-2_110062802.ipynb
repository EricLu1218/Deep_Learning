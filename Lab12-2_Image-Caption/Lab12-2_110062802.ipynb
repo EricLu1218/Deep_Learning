{
 "cells": [
  {
   "cell_type": "markdown",
   "metadata": {},
   "source": [
    "# Lab12-2: Image Captioning\n",
    "<hr>\n",
    "\n",
    "110062802 呂宸漢\n"
   ]
  },
  {
   "cell_type": "markdown",
   "metadata": {},
   "source": [
    "## Environment Setting"
   ]
  },
  {
   "cell_type": "code",
   "execution_count": 1,
   "metadata": {},
   "outputs": [
    {
     "name": "stderr",
     "output_type": "stream",
     "text": [
      "2022-11-22 22:53:01.867523: I tensorflow/core/platform/cpu_feature_guard.cc:193] This TensorFlow binary is optimized with oneAPI Deep Neural Network Library (oneDNN) to use the following CPU instructions in performance-critical operations:  SSE4.1 SSE4.2 AVX AVX2 FMA\n",
      "To enable them in other operations, rebuild TensorFlow with the appropriate compiler flags.\n"
     ]
    },
    {
     "name": "stdout",
     "output_type": "stream",
     "text": [
      "2 Physical GPUs, 1 Logical GPUs\n"
     ]
    }
   ],
   "source": [
    "import os\n",
    "import tensorflow as tf\n",
    "\n",
    "os.environ['TF_CPP_MIN_LOG_LEVEL'] = '3'\n",
    "\n",
    "gpus = tf.config.experimental.list_physical_devices('GPU')\n",
    "if gpus:\n",
    "    try:\n",
    "        # Currently, memory growth needs to be the same across GPUs\n",
    "        for gpu in gpus:\n",
    "            tf.config.experimental.set_memory_growth(gpu, True)\n",
    "        tf.config.experimental.set_visible_devices(gpus[0], 'GPU')\n",
    "        logical_gpus = tf.config.experimental.list_logical_devices('GPU')\n",
    "        print(len(gpus), 'Physical GPUs,', len(logical_gpus), 'Logical GPUs')\n",
    "    except RuntimeError as e:\n",
    "        # Memory growth must be set before GPUs have been initialized\n",
    "        print(e)\n"
   ]
  },
  {
   "cell_type": "markdown",
   "metadata": {},
   "source": [
    "## Load Data"
   ]
  },
  {
   "cell_type": "code",
   "execution_count": 2,
   "metadata": {},
   "outputs": [
    {
     "name": "stdout",
     "output_type": "stream",
     "text": [
      "./words_captcha/a0.png\n",
      "<start> t h u s <end>\n"
     ]
    }
   ],
   "source": [
    "import glob\n",
    "\n",
    "img_name_list = []\n",
    "cap_list = []\n",
    "\n",
    "with open('./words_captcha/spec_train_val.txt') as fin:\n",
    "    for line in fin:\n",
    "        image_name, caption = line.strip().split()\n",
    "        img_name_list.append(f'./words_captcha/{image_name}.png')\n",
    "        cap_list.append('<start> ' + ' '.join(caption) + ' <end>')\n",
    "\n",
    "test_img_name = set(glob.glob(f'./words_captcha/*.png')) - set(img_name_list)\n",
    "img_name_list += sorted(test_img_name)\n",
    "\n",
    "print(img_name_list[0])\n",
    "print(cap_list[0])\n"
   ]
  },
  {
   "cell_type": "markdown",
   "metadata": {},
   "source": [
    "## Preprocess Data"
   ]
  },
  {
   "cell_type": "code",
   "execution_count": 3,
   "metadata": {},
   "outputs": [
    {
     "name": "stdout",
     "output_type": "stream",
     "text": [
      "<start> t h u s <end>\n",
      "[ 2  9 18 17  6  3  0]\n"
     ]
    }
   ],
   "source": [
    "tokenizer = tf.keras.preprocessing.text.Tokenizer(filters='!\"#$%&()*+,-./:;=?@[\\\\]^_`{|}~\\t\\n',\n",
    "                                                  oov_token='')\n",
    "tokenizer.fit_on_texts(cap_list)\n",
    "cap_seqs = tokenizer.texts_to_sequences(cap_list)\n",
    "\n",
    "cap_seqs = tf.keras.preprocessing.sequence.pad_sequences(cap_seqs, padding='post')\n",
    "max_length = len(cap_seqs[0])\n",
    "\n",
    "print(cap_list[0])\n",
    "print(cap_seqs[0])\n"
   ]
  },
  {
   "cell_type": "markdown",
   "metadata": {},
   "source": [
    "## Split Data to Training, Validating, and Testing Data"
   ]
  },
  {
   "cell_type": "code",
   "execution_count": 4,
   "metadata": {},
   "outputs": [],
   "source": [
    "img_name_train, img_name_valid = img_name_list[:100000], img_name_list[100000:120000]\n",
    "cap_seqs_train, cap_seqs_valid = cap_seqs[:100000], cap_seqs[100000:]\n",
    "\n",
    "img_name_test = img_name_list[120000:]\n"
   ]
  },
  {
   "cell_type": "markdown",
   "metadata": {},
   "source": [
    "## Parameter Setting"
   ]
  },
  {
   "cell_type": "code",
   "execution_count": 5,
   "metadata": {},
   "outputs": [],
   "source": [
    "IMAGE_SIZE = (160, 300)\n",
    "BATCH_SIZE = 50\n",
    "BUFFER_SIZE = 5000\n",
    "\n",
    "EMBEDDING_DIM = 256\n",
    "UNITS = 512\n",
    "VOCAB_SIZE = len(tokenizer.word_index) + 1\n",
    "EPOCHS = 10\n",
    "STEPS = len(img_name_train) // BATCH_SIZE\n",
    "LEARNING_RATE = 1e-4\n"
   ]
  },
  {
   "cell_type": "markdown",
   "metadata": {},
   "source": [
    "## Build Dataset"
   ]
  },
  {
   "cell_type": "code",
   "execution_count": 6,
   "metadata": {},
   "outputs": [],
   "source": [
    "def map_train(img_path, cap_seq):\n",
    "    img = tf.io.read_file(img_path)\n",
    "    img = tf.image.decode_png(img, channels=3)\n",
    "    img = tf.image.resize(img, IMAGE_SIZE)\n",
    "    img = img / 255 * 2 - 1\n",
    "    return img, cap_seq\n"
   ]
  },
  {
   "cell_type": "code",
   "execution_count": 7,
   "metadata": {},
   "outputs": [],
   "source": [
    "dataset_train = tf.data.Dataset.from_tensor_slices((img_name_train, cap_seqs_train))\\\n",
    "                               .map(map_train, num_parallel_calls=tf.data.experimental.AUTOTUNE)\\\n",
    "                               .shuffle(BUFFER_SIZE)\\\n",
    "                               .batch(BATCH_SIZE, drop_remainder=True)\\\n",
    "                               .prefetch(tf.data.experimental.AUTOTUNE)\n",
    "\n",
    "dataset_valid = tf.data.Dataset.from_tensor_slices((img_name_valid, cap_seqs_valid))\\\n",
    "                               .map(map_train, num_parallel_calls=tf.data.experimental.AUTOTUNE)\\\n",
    "                               .batch(BATCH_SIZE, drop_remainder=True)\\\n",
    "                               .prefetch(tf.data.experimental.AUTOTUNE)\n"
   ]
  },
  {
   "cell_type": "markdown",
   "metadata": {},
   "source": [
    "## Build Model"
   ]
  },
  {
   "cell_type": "markdown",
   "metadata": {},
   "source": [
    "### Feature Extractor"
   ]
  },
  {
   "cell_type": "code",
   "execution_count": 8,
   "metadata": {},
   "outputs": [],
   "source": [
    "from tensorflow.keras import layers\n",
    "\n",
    "\n",
    "class conv_leaky_relu(layers.Layer):\n",
    "    def __init__(self, filters, size, stride):\n",
    "        super(conv_leaky_relu, self).__init__()\n",
    "        self.conv_2d = layers.Conv2D(filters, size, stride, padding='same')\n",
    "        self.batch_norm = layers.BatchNormalization()\n",
    "        self.leakey_relu = layers.LeakyReLU(0.1)\n",
    "\n",
    "    def call(self, inputs):\n",
    "        x = self.conv_2d(inputs)\n",
    "        x = self.batch_norm(x)\n",
    "        x = self.leakey_relu(x)\n",
    "        return x\n"
   ]
  },
  {
   "cell_type": "code",
   "execution_count": 9,
   "metadata": {},
   "outputs": [],
   "source": [
    "from tensorflow.keras import Input, layers, Model\n",
    "\n",
    "inputs = Input(shape=(IMAGE_SIZE[0], IMAGE_SIZE[1], 3))\n",
    "x = conv_leaky_relu(64, 7, 2)(inputs)\n",
    "x = layers.MaxPool2D()(x)\n",
    "x = conv_leaky_relu(192, 3, 1)(x)\n",
    "x = layers.MaxPool2D()(x)\n",
    "x = conv_leaky_relu(128, 1, 1)(x)\n",
    "x = conv_leaky_relu(256, 3, 1)(x)\n",
    "x = conv_leaky_relu(256, 1, 1)(x)\n",
    "x = conv_leaky_relu(512, 3, 1)(x)\n",
    "x = layers.MaxPool2D()(x)\n",
    "x = conv_leaky_relu(256, 1, 1)(x)\n",
    "x = conv_leaky_relu(512, 3, 1)(x)\n",
    "x = conv_leaky_relu(256, 1, 1)(x)\n",
    "x = conv_leaky_relu(512, 3, 1)(x)\n",
    "x = conv_leaky_relu(256, 1, 1)(x)\n",
    "x = conv_leaky_relu(512, 3, 1)(x)\n",
    "x = conv_leaky_relu(256, 1, 1)(x)\n",
    "x = conv_leaky_relu(512, 3, 1)(x)\n",
    "x = conv_leaky_relu(512, 1, 1)(x)\n",
    "x = conv_leaky_relu(1024, 3, 1)(x)\n",
    "x = layers.MaxPool2D()(x)\n",
    "x = conv_leaky_relu(512, 1, 1)(x)\n",
    "x = conv_leaky_relu(1024, 3, 1)(x)\n",
    "x = conv_leaky_relu(512, 1, 1)(x)\n",
    "x = conv_leaky_relu(1024, 3, 1)(x)\n",
    "x = conv_leaky_relu(1024, 3, 1)(x)\n",
    "x = conv_leaky_relu(1024, 3, 2)(x)\n",
    "x = conv_leaky_relu(1024, 3, 1)(x)\n",
    "outputs = conv_leaky_relu(1024, 3, 1)(x)\n",
    "\n",
    "feature_extractor = Model(inputs=inputs, outputs=outputs, name='YOLO')\n"
   ]
  },
  {
   "cell_type": "code",
   "execution_count": 10,
   "metadata": {},
   "outputs": [
    {
     "name": "stdout",
     "output_type": "stream",
     "text": [
      "Model: \"YOLO\"\n",
      "_________________________________________________________________\n",
      " Layer (type)                Output Shape              Param #   \n",
      "=================================================================\n",
      " input_1 (InputLayer)        [(None, 160, 300, 3)]     0         \n",
      "                                                                 \n",
      " conv_leaky_relu (conv_leaky  (None, 80, 150, 64)      9728      \n",
      " _relu)                                                          \n",
      "                                                                 \n",
      " max_pooling2d (MaxPooling2D  (None, 40, 75, 64)       0         \n",
      " )                                                               \n",
      "                                                                 \n",
      " conv_leaky_relu_1 (conv_lea  (None, 40, 75, 192)      111552    \n",
      " ky_relu)                                                        \n",
      "                                                                 \n",
      " max_pooling2d_1 (MaxPooling  (None, 20, 37, 192)      0         \n",
      " 2D)                                                             \n",
      "                                                                 \n",
      " conv_leaky_relu_2 (conv_lea  (None, 20, 37, 128)      25216     \n",
      " ky_relu)                                                        \n",
      "                                                                 \n",
      " conv_leaky_relu_3 (conv_lea  (None, 20, 37, 256)      296192    \n",
      " ky_relu)                                                        \n",
      "                                                                 \n",
      " conv_leaky_relu_4 (conv_lea  (None, 20, 37, 256)      66816     \n",
      " ky_relu)                                                        \n",
      "                                                                 \n",
      " conv_leaky_relu_5 (conv_lea  (None, 20, 37, 512)      1182208   \n",
      " ky_relu)                                                        \n",
      "                                                                 \n",
      " max_pooling2d_2 (MaxPooling  (None, 10, 18, 512)      0         \n",
      " 2D)                                                             \n",
      "                                                                 \n",
      " conv_leaky_relu_6 (conv_lea  (None, 10, 18, 256)      132352    \n",
      " ky_relu)                                                        \n",
      "                                                                 \n",
      " conv_leaky_relu_7 (conv_lea  (None, 10, 18, 512)      1182208   \n",
      " ky_relu)                                                        \n",
      "                                                                 \n",
      " conv_leaky_relu_8 (conv_lea  (None, 10, 18, 256)      132352    \n",
      " ky_relu)                                                        \n",
      "                                                                 \n",
      " conv_leaky_relu_9 (conv_lea  (None, 10, 18, 512)      1182208   \n",
      " ky_relu)                                                        \n",
      "                                                                 \n",
      " conv_leaky_relu_10 (conv_le  (None, 10, 18, 256)      132352    \n",
      " aky_relu)                                                       \n",
      "                                                                 \n",
      " conv_leaky_relu_11 (conv_le  (None, 10, 18, 512)      1182208   \n",
      " aky_relu)                                                       \n",
      "                                                                 \n",
      " conv_leaky_relu_12 (conv_le  (None, 10, 18, 256)      132352    \n",
      " aky_relu)                                                       \n",
      "                                                                 \n",
      " conv_leaky_relu_13 (conv_le  (None, 10, 18, 512)      1182208   \n",
      " aky_relu)                                                       \n",
      "                                                                 \n",
      " conv_leaky_relu_14 (conv_le  (None, 10, 18, 512)      264704    \n",
      " aky_relu)                                                       \n",
      "                                                                 \n",
      " conv_leaky_relu_15 (conv_le  (None, 10, 18, 1024)     4723712   \n",
      " aky_relu)                                                       \n",
      "                                                                 \n",
      " max_pooling2d_3 (MaxPooling  (None, 5, 9, 1024)       0         \n",
      " 2D)                                                             \n",
      "                                                                 \n",
      " conv_leaky_relu_16 (conv_le  (None, 5, 9, 512)        526848    \n",
      " aky_relu)                                                       \n",
      "                                                                 \n",
      " conv_leaky_relu_17 (conv_le  (None, 5, 9, 1024)       4723712   \n",
      " aky_relu)                                                       \n",
      "                                                                 \n",
      " conv_leaky_relu_18 (conv_le  (None, 5, 9, 512)        526848    \n",
      " aky_relu)                                                       \n",
      "                                                                 \n",
      " conv_leaky_relu_19 (conv_le  (None, 5, 9, 1024)       4723712   \n",
      " aky_relu)                                                       \n",
      "                                                                 \n",
      " conv_leaky_relu_20 (conv_le  (None, 5, 9, 1024)       9442304   \n",
      " aky_relu)                                                       \n",
      "                                                                 \n",
      " conv_leaky_relu_21 (conv_le  (None, 3, 5, 1024)       9442304   \n",
      " aky_relu)                                                       \n",
      "                                                                 \n",
      " conv_leaky_relu_22 (conv_le  (None, 3, 5, 1024)       9442304   \n",
      " aky_relu)                                                       \n",
      "                                                                 \n",
      " conv_leaky_relu_23 (conv_le  (None, 3, 5, 1024)       9442304   \n",
      " aky_relu)                                                       \n",
      "                                                                 \n",
      "=================================================================\n",
      "Total params: 60,208,704\n",
      "Trainable params: 60,182,336\n",
      "Non-trainable params: 26,368\n",
      "_________________________________________________________________\n"
     ]
    }
   ],
   "source": [
    "feature_extractor.summary()\n"
   ]
  },
  {
   "cell_type": "markdown",
   "metadata": {},
   "source": [
    "### CNN Encoder"
   ]
  },
  {
   "cell_type": "code",
   "execution_count": 11,
   "metadata": {},
   "outputs": [],
   "source": [
    "class CNN_Encoder(tf.keras.Model):\n",
    "    def __init__(self, embedding_dim):\n",
    "        super(CNN_Encoder, self).__init__()\n",
    "        self.fc = tf.keras.layers.Dense(embedding_dim)\n",
    "\n",
    "    def call(self, x):\n",
    "        # x shape after passing through fc == (batch_size, 15, embedding_dim)\n",
    "        x = self.fc(x)\n",
    "        x = tf.nn.relu(x)\n",
    "        return x\n"
   ]
  },
  {
   "cell_type": "markdown",
   "metadata": {},
   "source": [
    "### RNN Decoder"
   ]
  },
  {
   "cell_type": "code",
   "execution_count": 12,
   "metadata": {},
   "outputs": [],
   "source": [
    "class BahdanauAttention(tf.keras.Model):\n",
    "    def __init__(self, units):\n",
    "        super(BahdanauAttention, self).__init__()\n",
    "        self.W1 = tf.keras.layers.Dense(units)\n",
    "        self.W2 = tf.keras.layers.Dense(units)\n",
    "        self.V = tf.keras.layers.Dense(1)\n",
    "\n",
    "    def call(self, features, hidden):\n",
    "        # features(CNN_encoder output) shape == (batch_size, 15, embedding_dim)\n",
    "        # hidden shape == (batch_size, hidden_size)\n",
    "\n",
    "        # hidden_with_time_axis shape == (batch_size, 1, hidden_size)\n",
    "        hidden_with_time_axis = tf.expand_dims(hidden, 1)\n",
    "\n",
    "        # score shape == (batch_size, 15, 1)\n",
    "        score = self.V(tf.nn.tanh(self.W1(features) + self.W2(hidden_with_time_axis)))\n",
    "\n",
    "        # attention_weights shape == (batch_size, 15, 1)\n",
    "        attention_weights = tf.nn.softmax(score, axis=1)\n",
    "\n",
    "        # context_vector == (batch_size, embedding_dim)\n",
    "        context_vector = tf.reduce_sum(attention_weights * features, axis=1)\n",
    "\n",
    "        return context_vector, attention_weights\n"
   ]
  },
  {
   "cell_type": "code",
   "execution_count": 13,
   "metadata": {},
   "outputs": [],
   "source": [
    "class RNN_Decoder(tf.keras.Model):\n",
    "    def __init__(self, embedding_dim, units, vocab_size):\n",
    "        super(RNN_Decoder, self).__init__()\n",
    "        self.units = units\n",
    "\n",
    "        self.embedding = tf.keras.layers.Embedding(vocab_size, embedding_dim)\n",
    "        self.gru = tf.keras.layers.GRU(self.units,\n",
    "                                       return_sequences=True,\n",
    "                                       return_state=True,\n",
    "                                       recurrent_initializer='glorot_uniform')\n",
    "        self.fc1 = tf.keras.layers.Dense(self.units)\n",
    "        self.fc2 = tf.keras.layers.Dense(vocab_size)\n",
    "\n",
    "        self.attention = BahdanauAttention(self.units)\n",
    "\n",
    "    def call(self, x, features, hidden):\n",
    "        # x shape == (batch_size, 1)\n",
    "        # features shape == (batch_size, 15, embedding_dim)\n",
    "        # hidden shape == (batch_size, hidden_size)\n",
    "\n",
    "        # context_vector shape == (batch_size, embedding_dim)\n",
    "        # attention_weights shape == (batch_size, 15, 1)\n",
    "        context_vector, attention_weights = self.attention(features, hidden)\n",
    "\n",
    "        # x shape after passing through embedding == (batch_size, 1, embedding_dim)\n",
    "        x = self.embedding(x)\n",
    "\n",
    "        # x shape after concatenation == (batch_size, 1, embedding_dim + embedding_dim)\n",
    "        x = tf.concat([tf.expand_dims(context_vector, 1), x], axis=-1)\n",
    "\n",
    "        # passing the concatenated vector to the GRU\n",
    "        # output shape == (batch_size, 1, hidden_size)\n",
    "        # state(hidden) shape == (batch_size, hidden_size)\n",
    "        output, state = self.gru(x)\n",
    "\n",
    "        # x shape == (batch_size, 1, hidden_size)\n",
    "        x = self.fc1(output)\n",
    "\n",
    "        # x shape == (batch_size, hidden_size)\n",
    "        x = tf.reshape(x, (-1, x.shape[2]))\n",
    "\n",
    "        # output shape == (batch_size, vocab)\n",
    "        x = self.fc2(x)\n",
    "\n",
    "        return x, state, attention_weights\n",
    "\n",
    "    def reset_state(self, batch_size):\n",
    "        return tf.zeros((batch_size, self.units))\n"
   ]
  },
  {
   "cell_type": "code",
   "execution_count": 14,
   "metadata": {},
   "outputs": [],
   "source": [
    "encoder = CNN_Encoder(EMBEDDING_DIM)\n",
    "decoder = RNN_Decoder(EMBEDDING_DIM, UNITS, VOCAB_SIZE)\n"
   ]
  },
  {
   "cell_type": "markdown",
   "metadata": {},
   "source": [
    "## Train Model"
   ]
  },
  {
   "cell_type": "code",
   "execution_count": 15,
   "metadata": {},
   "outputs": [],
   "source": [
    "optimizer = tf.keras.optimizers.Adam(learning_rate=LEARNING_RATE)\n",
    "loss_object = tf.keras.losses.SparseCategoricalCrossentropy(\n",
    "    from_logits=True, reduction='none')\n",
    "\n",
    "\n",
    "def loss_function(real, pred):\n",
    "    mask = tf.math.logical_not(tf.math.equal(real, 0))\n",
    "    loss_ = loss_object(real, pred)\n",
    "\n",
    "    mask = tf.cast(mask, dtype=loss_.dtype)\n",
    "    loss_ *= mask\n",
    "\n",
    "    return tf.reduce_mean(loss_)\n"
   ]
  },
  {
   "cell_type": "code",
   "execution_count": 16,
   "metadata": {},
   "outputs": [],
   "source": [
    "checkpoint_path = './checkpoints/YOLO/'\n",
    "ckpt = tf.train.Checkpoint(feature_extractor=feature_extractor,\n",
    "                           encoder=encoder,\n",
    "                           decoder=decoder,\n",
    "                           optimizer=optimizer)\n",
    "ckpt_manager = tf.train.CheckpointManager(ckpt, checkpoint_path, max_to_keep=5)\n"
   ]
  },
  {
   "cell_type": "code",
   "execution_count": 17,
   "metadata": {},
   "outputs": [],
   "source": [
    "start_epoch = 0\n",
    "if ckpt_manager.latest_checkpoint:\n",
    "    start_epoch = int(ckpt_manager.latest_checkpoint.split('-')[-1])\n"
   ]
  },
  {
   "cell_type": "code",
   "execution_count": 18,
   "metadata": {},
   "outputs": [],
   "source": [
    "@tf.function\n",
    "def train_step(img_tensor, target):\n",
    "    batch_size = img_tensor.shape[0]\n",
    "    dec_input = tf.expand_dims([tokenizer.word_index['<start>']] * batch_size, 1)\n",
    "    hidden = decoder.reset_state(batch_size=batch_size)\n",
    "\n",
    "    loss = 0\n",
    "    with tf.GradientTape() as tape:\n",
    "        features = feature_extractor(img_tensor, True)\n",
    "        features = tf.reshape(features, (features.shape[0], -1, features.shape[3]))\n",
    "        features = encoder(features)\n",
    "\n",
    "        for i in range(1, target.shape[1]):\n",
    "            predictions, hidden, _ = decoder(dec_input, features, hidden)\n",
    "            loss += loss_function(target[:, i], predictions)\n",
    "            # using teacher forcing\n",
    "            dec_input = tf.expand_dims(target[:, i], 1)\n",
    "\n",
    "    mean_loss = (loss / int(target.shape[1]))\n",
    "\n",
    "    trainable_variables = feature_extractor.trainable_variables + \\\n",
    "        encoder.trainable_variables + decoder.trainable_variables\n",
    "    gradients = tape.gradient(loss, trainable_variables)\n",
    "    optimizer.apply_gradients(zip(gradients, trainable_variables))\n",
    "\n",
    "    return mean_loss\n"
   ]
  },
  {
   "cell_type": "code",
   "execution_count": 19,
   "metadata": {},
   "outputs": [],
   "source": [
    "def predict(img_tensor):\n",
    "    batch_size = img_tensor.shape[0]\n",
    "    dec_input = tf.expand_dims(\n",
    "        [tokenizer.word_index['<start>']] * batch_size, 1)\n",
    "\n",
    "    features = feature_extractor(img_tensor)\n",
    "    features = tf.reshape(features, (features.shape[0], -1, features.shape[3]))\n",
    "    features = encoder(features)\n",
    "\n",
    "    hidden = decoder.reset_state(batch_size=batch_size)\n",
    "\n",
    "    result = tf.expand_dims([tokenizer.word_index['<start>']] * batch_size, 1)\n",
    "    for _ in range(max_length):\n",
    "        predictions, hidden, _ = decoder(dec_input, features, hidden)\n",
    "        predicted_id = tf.argmax(predictions, axis=1).numpy()\n",
    "        dec_input = tf.expand_dims(predicted_id, 1)\n",
    "        result = tf.concat([result, predicted_id.reshape((batch_size, 1))], axis=1)\n",
    "\n",
    "    return result\n"
   ]
  },
  {
   "cell_type": "code",
   "execution_count": 20,
   "metadata": {},
   "outputs": [],
   "source": [
    "def postprocess(segs):\n",
    "    result_list = []\n",
    "    for seq in segs:\n",
    "        result = ''\n",
    "        for s in seq[1:]:\n",
    "            if s == tokenizer.word_index['<end>']:\n",
    "                break\n",
    "            result += tokenizer.index_word[s]\n",
    "        result_list.append(result)\n",
    "    return result_list\n"
   ]
  },
  {
   "cell_type": "code",
   "execution_count": 21,
   "metadata": {},
   "outputs": [],
   "source": [
    "def evaluate(dataset_valid):\n",
    "    sample_count = 0\n",
    "    correct_count = 0\n",
    "    for img_tensor, target in dataset_valid:\n",
    "        pred_list = postprocess(predict(img_tensor).numpy())\n",
    "        real_list = postprocess(target.numpy())\n",
    "\n",
    "        for pred, real in zip(pred_list, real_list):\n",
    "            sample_count += 1\n",
    "            if pred == real:\n",
    "                correct_count += 1\n",
    "\n",
    "    return correct_count / sample_count\n"
   ]
  },
  {
   "cell_type": "code",
   "execution_count": 22,
   "metadata": {},
   "outputs": [
    {
     "name": "stderr",
     "output_type": "stream",
     "text": [
      "Epoch  1: 100%|██████████| 2000/2000 [03:43<00:00,  8.97it/s, loss=1.06]\n"
     ]
    },
    {
     "name": "stdout",
     "output_type": "stream",
     "text": [
      "Validation accuracy: 0.16\n"
     ]
    },
    {
     "name": "stderr",
     "output_type": "stream",
     "text": [
      "Epoch  2: 100%|██████████| 2000/2000 [03:28<00:00,  9.57it/s, loss=0.119]\n"
     ]
    },
    {
     "name": "stdout",
     "output_type": "stream",
     "text": [
      "Validation accuracy: 0.71\n"
     ]
    },
    {
     "name": "stderr",
     "output_type": "stream",
     "text": [
      "Epoch  3: 100%|██████████| 2000/2000 [03:28<00:00,  9.57it/s, loss=0.0457]\n"
     ]
    },
    {
     "name": "stdout",
     "output_type": "stream",
     "text": [
      "Validation accuracy: 0.77\n"
     ]
    },
    {
     "name": "stderr",
     "output_type": "stream",
     "text": [
      "Epoch  4: 100%|██████████| 2000/2000 [03:29<00:00,  9.55it/s, loss=0.0298]\n"
     ]
    },
    {
     "name": "stdout",
     "output_type": "stream",
     "text": [
      "Validation accuracy: 0.89\n"
     ]
    },
    {
     "name": "stderr",
     "output_type": "stream",
     "text": [
      "Epoch  5: 100%|██████████| 2000/2000 [03:28<00:00,  9.57it/s, loss=0.0208]\n"
     ]
    },
    {
     "name": "stdout",
     "output_type": "stream",
     "text": [
      "Validation accuracy: 0.93\n"
     ]
    },
    {
     "name": "stderr",
     "output_type": "stream",
     "text": [
      "Epoch  6: 100%|██████████| 2000/2000 [04:21<00:00,  7.64it/s, loss=0.0177]\n"
     ]
    },
    {
     "name": "stdout",
     "output_type": "stream",
     "text": [
      "Validation accuracy: 0.01\n"
     ]
    },
    {
     "name": "stderr",
     "output_type": "stream",
     "text": [
      "Epoch  7: 100%|██████████| 2000/2000 [03:32<00:00,  9.42it/s, loss=0.0154]\n"
     ]
    },
    {
     "name": "stdout",
     "output_type": "stream",
     "text": [
      "Validation accuracy: 0.94\n"
     ]
    },
    {
     "name": "stderr",
     "output_type": "stream",
     "text": [
      "Epoch  8: 100%|██████████| 2000/2000 [03:32<00:00,  9.42it/s, loss=0.00996]\n"
     ]
    },
    {
     "name": "stdout",
     "output_type": "stream",
     "text": [
      "Validation accuracy: 0.95\n"
     ]
    },
    {
     "name": "stderr",
     "output_type": "stream",
     "text": [
      "Epoch  9: 100%|██████████| 2000/2000 [03:32<00:00,  9.42it/s, loss=0.00993]\n"
     ]
    },
    {
     "name": "stdout",
     "output_type": "stream",
     "text": [
      "Validation accuracy: 0.97\n"
     ]
    },
    {
     "name": "stderr",
     "output_type": "stream",
     "text": [
      "Epoch 10: 100%|██████████| 2000/2000 [03:32<00:00,  9.42it/s, loss=0.00948]\n"
     ]
    },
    {
     "name": "stdout",
     "output_type": "stream",
     "text": [
      "Validation accuracy: 0.98\n",
      "Time taken for 10 epoch 2517.595983028412 sec\n",
      "\n"
     ]
    }
   ],
   "source": [
    "import time\n",
    "from tqdm import tqdm\n",
    "\n",
    "loss_plot = []\n",
    "start = time.time()\n",
    "for epoch in range(start_epoch, EPOCHS):\n",
    "    loss = 0\n",
    "    pbar = tqdm(dataset_train, total=STEPS, desc=f'Epoch {epoch + 1:2d}')\n",
    "    for (step, (img_tensor, target)) in enumerate(pbar):\n",
    "        loss += train_step(img_tensor, target)\n",
    "        pbar.set_postfix({'loss': loss.numpy() / (step + 1)})\n",
    "\n",
    "    loss_plot.append(loss / STEPS)\n",
    "    ckpt_manager.save()\n",
    "\n",
    "    score = evaluate(dataset_valid)\n",
    "    print(f'Validation accuracy: {score:.2f}')\n",
    "\n",
    "print('Time taken for {} epoch {} sec\\n'.format(EPOCHS - start_epoch, time.time() - start))\n"
   ]
  },
  {
   "cell_type": "code",
   "execution_count": 23,
   "metadata": {},
   "outputs": [
    {
     "data": {
      "image/png": "[encoded data removed]",
      "text/plain": [
       "<Figure size 432x288 with 1 Axes>"
      ]
     },
     "metadata": {
      "needs_background": "light"
     },
     "output_type": "display_data"
    }
   ],
   "source": [
    "import matplotlib.pyplot as plt\n",
    "\n",
    "plt.plot(loss_plot)\n",
    "plt.xlabel('Epochs')\n",
    "plt.ylabel('Loss')\n",
    "plt.title('Loss Plot')\n",
    "plt.show()\n"
   ]
  },
  {
   "cell_type": "markdown",
   "metadata": {},
   "source": [
    "## Predict Testing Data"
   ]
  },
  {
   "cell_type": "code",
   "execution_count": 24,
   "metadata": {},
   "outputs": [
    {
     "data": {
      "text/plain": [
       "<tensorflow.python.checkpoint.checkpoint.CheckpointLoadStatus at 0x7f73842e4970>"
      ]
     },
     "execution_count": 24,
     "metadata": {},
     "output_type": "execute_result"
    }
   ],
   "source": [
    "ckpt = tf.train.Checkpoint(feature_extractor=feature_extractor,\n",
    "                           encoder=encoder,\n",
    "                           decoder=decoder,\n",
    "                           optimizer=optimizer)\n",
    "ckpt.restore('./checkpoints/YOLO/ckpt-10')\n"
   ]
  },
  {
   "cell_type": "code",
   "execution_count": 25,
   "metadata": {},
   "outputs": [
    {
     "name": "stdout",
     "output_type": "stream",
     "text": [
      "Validation accuracy: 0.98\n"
     ]
    }
   ],
   "source": [
    "score = evaluate(dataset_valid)\n",
    "print(f'Validation accuracy: {score:.2f}')\n"
   ]
  },
  {
   "cell_type": "code",
   "execution_count": 26,
   "metadata": {},
   "outputs": [],
   "source": [
    "def map_test(img_path):\n",
    "    img = tf.io.read_file(img_path)\n",
    "    img = tf.image.decode_png(img, channels=3)\n",
    "    img = tf.image.resize(img, IMAGE_SIZE)\n",
    "    img = img / 255 * 2 - 1\n",
    "    return img, img_path"
   ]
  },
  {
   "cell_type": "code",
   "execution_count": 27,
   "metadata": {},
   "outputs": [],
   "source": [
    "dataset_test = tf.data.Dataset.from_tensor_slices((img_name_test))\\\n",
    "                              .map(map_test, num_parallel_calls=tf.data.experimental.AUTOTUNE)\\\n",
    "                              .batch(100)\\\n",
    "                              .prefetch(tf.data.experimental.AUTOTUNE)\n"
   ]
  },
  {
   "cell_type": "code",
   "execution_count": 28,
   "metadata": {},
   "outputs": [
    {
     "name": "stderr",
     "output_type": "stream",
     "text": [
      "100%|██████████| 200/200 [00:28<00:00,  6.92it/s]\n"
     ]
    }
   ],
   "source": [
    "import re\n",
    "\n",
    "with open('./Lab12-2_110062802.txt', 'w') as fout:\n",
    "    for step, (img_tensor, img_path) in enumerate(tqdm(dataset_test)):\n",
    "        pred_list = postprocess(predict(img_tensor).numpy())\n",
    "        for path, pred in zip(img_path, pred_list):\n",
    "            path = path.numpy().decode('utf-8')\n",
    "            name = re.search('(a[0-9]+)', path).group(1)\n",
    "            fout.write(f'{name} {pred}\\n')\n"
   ]
  },
  {
   "cell_type": "markdown",
   "metadata": {},
   "source": [
    "## Report\n",
    "\n",
    "我以YOLOv1 convolution的部分當作feature extractor，其餘encoder、attention與decoder的部分則與助教的相同。由於我的YOLOv1沒有pretrain的weight，因此在update weight的時候還需將YOLOv1的trainable_variables加進去更新。由training的log可以看出在第五個epoch後validation的準確率可以達90%以上，第十個epoch的準確率更可達到98%，因此我取第十個epoch的weight當作我最後的model weight，並用他來預測testing data。\n",
    "\n",
    "值得一提的是，在training的過程中並不是loss越低validation accuracy越高，可以看到在第六個epoch時明明loss也不錯可是accuracy只有1%，反而相鄰的兩個epoch accuracy都在90%以上，我認為這是因為本次題目是要求predict與target的字要完全相同，而loss無法準確反映在完全相同的字上面，導致loss與accuracy之間有落差，不過這也只是我的推測而已，也有機會是我model的設計有瑕疵導致，真正的原因仍需調查。\n"
   ]
  }
 ],
 "metadata": {
  "kernelspec": {
   "display_name": "Python 3.9.13 ('dl')",
   "language": "python",
   "name": "python3"
  },
  "language_info": {
   "codemirror_mode": {
    "name": "ipython",
    "version": 3
   },
   "file_extension": ".py",
   "mimetype": "text/x-python",
   "name": "python",
   "nbconvert_exporter": "python",
   "pygments_lexer": "ipython3",
   "version": "3.9.13"
  },
  "orig_nbformat": 4,
  "vscode": {
   "interpreter": {
    "hash": "05369867b289fbcd469a5a13d459af9004edcaf479b6e68a71616af7c4a7fea3"
   }
  }
 },
 "nbformat": 4,
 "nbformat_minor": 2
}
