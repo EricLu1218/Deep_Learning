{
 "cells": [
  {
   "attachments": {},
   "cell_type": "markdown",
   "metadata": {},
   "source": [
    "# Datalab Cup 4: Recommender Systems\n",
    "<hr>\n",
    "\n",
    "Team Name: 沒liao恩宇\n",
    "\n",
    "Team Member: 110062560 林子鵑、110062802 呂宸漢、110062552 周伯宇"
   ]
  },
  {
   "attachments": {},
   "cell_type": "markdown",
   "metadata": {},
   "source": [
    "## Environment Setting"
   ]
  },
  {
   "cell_type": "code",
   "execution_count": 2,
   "metadata": {},
   "outputs": [
    {
     "name": "stdout",
     "output_type": "stream",
     "text": [
      "2 Physical GPUs, 1 Logical GPUs\n"
     ]
    }
   ],
   "source": [
    "import os\n",
    "import tensorflow as tf\n",
    "\n",
    "os.environ['TF_CPP_MIN_LOG_LEVEL'] = '3'\n",
    "\n",
    "gpus = tf.config.experimental.list_physical_devices('GPU')\n",
    "if gpus:\n",
    "    try:\n",
    "        tf.config.experimental.set_visible_devices(gpus[0], 'GPU')\n",
    "        # Currently, memory growth needs to be the same across GPUs\n",
    "        for gpu in gpus:\n",
    "            tf.config.experimental.set_memory_growth(gpu, True)\n",
    "        logical_gpus = tf.config.experimental.list_logical_devices('GPU')\n",
    "        print(len(gpus), \"Physical GPUs,\", len(logical_gpus), \"Logical GPUs\")\n",
    "    except RuntimeError as e:\n",
    "        # Memory growth must be set before GPUs have been initialized\n",
    "        print(e)\n"
   ]
  },
  {
   "attachments": {},
   "cell_type": "markdown",
   "metadata": {},
   "source": [
    "## Inspect the dataset"
   ]
  },
  {
   "cell_type": "code",
   "execution_count": 4,
   "metadata": {},
   "outputs": [],
   "source": [
    "DATASET_PATH = 'dataset'\n",
    "USERS_PATH = os.path.join(DATASET_PATH, 'users.csv')\n",
    "MOVIES_PATH = os.path.join(DATASET_PATH, 'movies.csv')\n",
    "RATINGS_PATH = os.path.join(DATASET_PATH, 'ratings_train.csv')\n"
   ]
  },
  {
   "cell_type": "code",
   "execution_count": 5,
   "metadata": {},
   "outputs": [
    {
     "data": {
      "text/html": [
       "<div>\n",
       "<style scoped>\n",
       "    .dataframe tbody tr th:only-of-type {\n",
       "        vertical-align: middle;\n",
       "    }\n",
       "\n",
       "    .dataframe tbody tr th {\n",
       "        vertical-align: top;\n",
       "    }\n",
       "\n",
       "    .dataframe thead th {\n",
       "        text-align: right;\n",
       "    }\n",
       "</style>\n",
       "<table border=\"1\" class=\"dataframe\">\n",
       "  <thead>\n",
       "    <tr style=\"text-align: right;\">\n",
       "      <th></th>\n",
       "      <th>UserID</th>\n",
       "      <th>Gender</th>\n",
       "      <th>Age</th>\n",
       "      <th>Occupation</th>\n",
       "      <th>ZipCode</th>\n",
       "    </tr>\n",
       "  </thead>\n",
       "  <tbody>\n",
       "    <tr>\n",
       "      <th>0</th>\n",
       "      <td>0</td>\n",
       "      <td>F</td>\n",
       "      <td>1</td>\n",
       "      <td>10</td>\n",
       "      <td>48067</td>\n",
       "    </tr>\n",
       "    <tr>\n",
       "      <th>1</th>\n",
       "      <td>1</td>\n",
       "      <td>M</td>\n",
       "      <td>56</td>\n",
       "      <td>16</td>\n",
       "      <td>70072</td>\n",
       "    </tr>\n",
       "    <tr>\n",
       "      <th>2</th>\n",
       "      <td>2</td>\n",
       "      <td>M</td>\n",
       "      <td>25</td>\n",
       "      <td>15</td>\n",
       "      <td>55117</td>\n",
       "    </tr>\n",
       "    <tr>\n",
       "      <th>3</th>\n",
       "      <td>3</td>\n",
       "      <td>M</td>\n",
       "      <td>45</td>\n",
       "      <td>7</td>\n",
       "      <td>02460</td>\n",
       "    </tr>\n",
       "    <tr>\n",
       "      <th>4</th>\n",
       "      <td>4</td>\n",
       "      <td>M</td>\n",
       "      <td>25</td>\n",
       "      <td>20</td>\n",
       "      <td>55455</td>\n",
       "    </tr>\n",
       "    <tr>\n",
       "      <th>...</th>\n",
       "      <td>...</td>\n",
       "      <td>...</td>\n",
       "      <td>...</td>\n",
       "      <td>...</td>\n",
       "      <td>...</td>\n",
       "    </tr>\n",
       "    <tr>\n",
       "      <th>6035</th>\n",
       "      <td>6035</td>\n",
       "      <td>F</td>\n",
       "      <td>25</td>\n",
       "      <td>15</td>\n",
       "      <td>32603</td>\n",
       "    </tr>\n",
       "    <tr>\n",
       "      <th>6036</th>\n",
       "      <td>6036</td>\n",
       "      <td>F</td>\n",
       "      <td>45</td>\n",
       "      <td>1</td>\n",
       "      <td>76006</td>\n",
       "    </tr>\n",
       "    <tr>\n",
       "      <th>6037</th>\n",
       "      <td>6037</td>\n",
       "      <td>F</td>\n",
       "      <td>56</td>\n",
       "      <td>1</td>\n",
       "      <td>14706</td>\n",
       "    </tr>\n",
       "    <tr>\n",
       "      <th>6038</th>\n",
       "      <td>6038</td>\n",
       "      <td>F</td>\n",
       "      <td>45</td>\n",
       "      <td>0</td>\n",
       "      <td>01060</td>\n",
       "    </tr>\n",
       "    <tr>\n",
       "      <th>6039</th>\n",
       "      <td>6039</td>\n",
       "      <td>M</td>\n",
       "      <td>25</td>\n",
       "      <td>6</td>\n",
       "      <td>11106</td>\n",
       "    </tr>\n",
       "  </tbody>\n",
       "</table>\n",
       "<p>6040 rows × 5 columns</p>\n",
       "</div>"
      ],
      "text/plain": [
       "      UserID Gender  Age  Occupation ZipCode\n",
       "0          0      F    1          10   48067\n",
       "1          1      M   56          16   70072\n",
       "2          2      M   25          15   55117\n",
       "3          3      M   45           7   02460\n",
       "4          4      M   25          20   55455\n",
       "...      ...    ...  ...         ...     ...\n",
       "6035    6035      F   25          15   32603\n",
       "6036    6036      F   45           1   76006\n",
       "6037    6037      F   56           1   14706\n",
       "6038    6038      F   45           0   01060\n",
       "6039    6039      M   25           6   11106\n",
       "\n",
       "[6040 rows x 5 columns]"
      ]
     },
     "execution_count": 5,
     "metadata": {},
     "output_type": "execute_result"
    }
   ],
   "source": [
    "import pandas as pd\n",
    "\n",
    "df_users = pd.read_csv(USERS_PATH)\n",
    "df_users\n"
   ]
  },
  {
   "cell_type": "code",
   "execution_count": 6,
   "metadata": {},
   "outputs": [
    {
     "data": {
      "text/html": [
       "<div>\n",
       "<style scoped>\n",
       "    .dataframe tbody tr th:only-of-type {\n",
       "        vertical-align: middle;\n",
       "    }\n",
       "\n",
       "    .dataframe tbody tr th {\n",
       "        vertical-align: top;\n",
       "    }\n",
       "\n",
       "    .dataframe thead th {\n",
       "        text-align: right;\n",
       "    }\n",
       "</style>\n",
       "<table border=\"1\" class=\"dataframe\">\n",
       "  <thead>\n",
       "    <tr style=\"text-align: right;\">\n",
       "      <th></th>\n",
       "      <th>MovieID</th>\n",
       "      <th>Title</th>\n",
       "      <th>Genres</th>\n",
       "    </tr>\n",
       "  </thead>\n",
       "  <tbody>\n",
       "    <tr>\n",
       "      <th>0</th>\n",
       "      <td>0</td>\n",
       "      <td>Toy Story (1995)</td>\n",
       "      <td>Animation|Children's|Comedy</td>\n",
       "    </tr>\n",
       "    <tr>\n",
       "      <th>1</th>\n",
       "      <td>1</td>\n",
       "      <td>Jumanji (1995)</td>\n",
       "      <td>Adventure|Children's|Fantasy</td>\n",
       "    </tr>\n",
       "    <tr>\n",
       "      <th>2</th>\n",
       "      <td>2</td>\n",
       "      <td>Grumpier Old Men (1995)</td>\n",
       "      <td>Comedy|Romance</td>\n",
       "    </tr>\n",
       "    <tr>\n",
       "      <th>3</th>\n",
       "      <td>3</td>\n",
       "      <td>Waiting to Exhale (1995)</td>\n",
       "      <td>Comedy|Drama</td>\n",
       "    </tr>\n",
       "    <tr>\n",
       "      <th>4</th>\n",
       "      <td>4</td>\n",
       "      <td>Father of the Bride Part II (1995)</td>\n",
       "      <td>Comedy</td>\n",
       "    </tr>\n",
       "    <tr>\n",
       "      <th>...</th>\n",
       "      <td>...</td>\n",
       "      <td>...</td>\n",
       "      <td>...</td>\n",
       "    </tr>\n",
       "    <tr>\n",
       "      <th>3878</th>\n",
       "      <td>3947</td>\n",
       "      <td>Meet the Parents (2000)</td>\n",
       "      <td>Comedy</td>\n",
       "    </tr>\n",
       "    <tr>\n",
       "      <th>3879</th>\n",
       "      <td>3948</td>\n",
       "      <td>Requiem for a Dream (2000)</td>\n",
       "      <td>Drama</td>\n",
       "    </tr>\n",
       "    <tr>\n",
       "      <th>3880</th>\n",
       "      <td>3949</td>\n",
       "      <td>Tigerland (2000)</td>\n",
       "      <td>Drama</td>\n",
       "    </tr>\n",
       "    <tr>\n",
       "      <th>3881</th>\n",
       "      <td>3950</td>\n",
       "      <td>Two Family House (2000)</td>\n",
       "      <td>Drama</td>\n",
       "    </tr>\n",
       "    <tr>\n",
       "      <th>3882</th>\n",
       "      <td>3951</td>\n",
       "      <td>Contender, The (2000)</td>\n",
       "      <td>Drama|Thriller</td>\n",
       "    </tr>\n",
       "  </tbody>\n",
       "</table>\n",
       "<p>3883 rows × 3 columns</p>\n",
       "</div>"
      ],
      "text/plain": [
       "      MovieID                               Title  \\\n",
       "0           0                    Toy Story (1995)   \n",
       "1           1                      Jumanji (1995)   \n",
       "2           2             Grumpier Old Men (1995)   \n",
       "3           3            Waiting to Exhale (1995)   \n",
       "4           4  Father of the Bride Part II (1995)   \n",
       "...       ...                                 ...   \n",
       "3878     3947             Meet the Parents (2000)   \n",
       "3879     3948          Requiem for a Dream (2000)   \n",
       "3880     3949                    Tigerland (2000)   \n",
       "3881     3950             Two Family House (2000)   \n",
       "3882     3951               Contender, The (2000)   \n",
       "\n",
       "                            Genres  \n",
       "0      Animation|Children's|Comedy  \n",
       "1     Adventure|Children's|Fantasy  \n",
       "2                   Comedy|Romance  \n",
       "3                     Comedy|Drama  \n",
       "4                           Comedy  \n",
       "...                            ...  \n",
       "3878                        Comedy  \n",
       "3879                         Drama  \n",
       "3880                         Drama  \n",
       "3881                         Drama  \n",
       "3882                Drama|Thriller  \n",
       "\n",
       "[3883 rows x 3 columns]"
      ]
     },
     "execution_count": 6,
     "metadata": {},
     "output_type": "execute_result"
    }
   ],
   "source": [
    "df_movies = pd.read_csv(MOVIES_PATH)\n",
    "df_movies\n"
   ]
  },
  {
   "cell_type": "code",
   "execution_count": 7,
   "metadata": {},
   "outputs": [
    {
     "data": {
      "text/html": [
       "<div>\n",
       "<style scoped>\n",
       "    .dataframe tbody tr th:only-of-type {\n",
       "        vertical-align: middle;\n",
       "    }\n",
       "\n",
       "    .dataframe tbody tr th {\n",
       "        vertical-align: top;\n",
       "    }\n",
       "\n",
       "    .dataframe thead th {\n",
       "        text-align: right;\n",
       "    }\n",
       "</style>\n",
       "<table border=\"1\" class=\"dataframe\">\n",
       "  <thead>\n",
       "    <tr style=\"text-align: right;\">\n",
       "      <th></th>\n",
       "      <th>UserID</th>\n",
       "      <th>MovieID</th>\n",
       "      <th>Rating</th>\n",
       "      <th>Timestamp</th>\n",
       "    </tr>\n",
       "  </thead>\n",
       "  <tbody>\n",
       "    <tr>\n",
       "      <th>0</th>\n",
       "      <td>6039</td>\n",
       "      <td>857</td>\n",
       "      <td>4</td>\n",
       "      <td>956703932</td>\n",
       "    </tr>\n",
       "    <tr>\n",
       "      <th>1</th>\n",
       "      <td>6039</td>\n",
       "      <td>2383</td>\n",
       "      <td>4</td>\n",
       "      <td>956703954</td>\n",
       "    </tr>\n",
       "    <tr>\n",
       "      <th>2</th>\n",
       "      <td>6039</td>\n",
       "      <td>592</td>\n",
       "      <td>5</td>\n",
       "      <td>956703954</td>\n",
       "    </tr>\n",
       "    <tr>\n",
       "      <th>3</th>\n",
       "      <td>6039</td>\n",
       "      <td>1960</td>\n",
       "      <td>4</td>\n",
       "      <td>956703977</td>\n",
       "    </tr>\n",
       "    <tr>\n",
       "      <th>4</th>\n",
       "      <td>6039</td>\n",
       "      <td>2018</td>\n",
       "      <td>5</td>\n",
       "      <td>956703977</td>\n",
       "    </tr>\n",
       "    <tr>\n",
       "      <th>...</th>\n",
       "      <td>...</td>\n",
       "      <td>...</td>\n",
       "      <td>...</td>\n",
       "      <td>...</td>\n",
       "    </tr>\n",
       "    <tr>\n",
       "      <th>939757</th>\n",
       "      <td>5949</td>\n",
       "      <td>1996</td>\n",
       "      <td>3</td>\n",
       "      <td>1046368734</td>\n",
       "    </tr>\n",
       "    <tr>\n",
       "      <th>939758</th>\n",
       "      <td>5949</td>\n",
       "      <td>1260</td>\n",
       "      <td>4</td>\n",
       "      <td>1046368750</td>\n",
       "    </tr>\n",
       "    <tr>\n",
       "      <th>939759</th>\n",
       "      <td>5949</td>\n",
       "      <td>3151</td>\n",
       "      <td>3</td>\n",
       "      <td>1046368831</td>\n",
       "    </tr>\n",
       "    <tr>\n",
       "      <th>939760</th>\n",
       "      <td>5949</td>\n",
       "      <td>3910</td>\n",
       "      <td>4</td>\n",
       "      <td>1046369026</td>\n",
       "    </tr>\n",
       "    <tr>\n",
       "      <th>939761</th>\n",
       "      <td>4957</td>\n",
       "      <td>2452</td>\n",
       "      <td>4</td>\n",
       "      <td>1046454260</td>\n",
       "    </tr>\n",
       "  </tbody>\n",
       "</table>\n",
       "<p>939762 rows × 4 columns</p>\n",
       "</div>"
      ],
      "text/plain": [
       "        UserID  MovieID  Rating   Timestamp\n",
       "0         6039      857       4   956703932\n",
       "1         6039     2383       4   956703954\n",
       "2         6039      592       5   956703954\n",
       "3         6039     1960       4   956703977\n",
       "4         6039     2018       5   956703977\n",
       "...        ...      ...     ...         ...\n",
       "939757    5949     1996       3  1046368734\n",
       "939758    5949     1260       4  1046368750\n",
       "939759    5949     3151       3  1046368831\n",
       "939760    5949     3910       4  1046369026\n",
       "939761    4957     2452       4  1046454260\n",
       "\n",
       "[939762 rows x 4 columns]"
      ]
     },
     "execution_count": 7,
     "metadata": {},
     "output_type": "execute_result"
    }
   ],
   "source": [
    "df_ratings = pd.read_csv(RATINGS_PATH)\n",
    "df_ratings\n"
   ]
  },
  {
   "cell_type": "code",
   "execution_count": 8,
   "metadata": {},
   "outputs": [
    {
     "name": "stdout",
     "output_type": "stream",
     "text": [
      "# of users: 6040, # of movies: 3952\n"
     ]
    }
   ],
   "source": [
    "M_USERS = max(len(df_users['UserID'].unique()), df_users['UserID'].max() + 1)\n",
    "N_ITEMS = max(len(df_movies['MovieID'].unique()), df_movies['MovieID'].max() + 1)\n",
    "print(f'# of users: {M_USERS}, # of movies: {N_ITEMS}')\n"
   ]
  },
  {
   "attachments": {},
   "cell_type": "markdown",
   "metadata": {},
   "source": [
    "## Recommender Model"
   ]
  },
  {
   "cell_type": "code",
   "execution_count": 9,
   "metadata": {},
   "outputs": [],
   "source": [
    "class FunkSVDRecommender(tf.keras.Model):\n",
    "    '''\n",
    "    Simplified Funk-SVD recommender model\n",
    "    '''\n",
    "\n",
    "    def __init__(self, m_users: int, n_items: int, bias_mu, embedding_size: int,\n",
    "                 learning_rate: float, learning_rate_update: float,\n",
    "                 regularization_train: bool, regularization_update: bool,\n",
    "                 seed: int):\n",
    "        '''\n",
    "        Constructor of the model\n",
    "        '''\n",
    "        super().__init__()\n",
    "        self.m = m_users\n",
    "        self.n = n_items\n",
    "        self.k = embedding_size\n",
    "        self.lr = learning_rate\n",
    "        self.lr_update = learning_rate_update\n",
    "        self.reg_train = regularization_train\n",
    "        self.reg_update = regularization_update\n",
    "        self.seed = seed\n",
    "        self.B_mu = tf.constant([bias_mu])\n",
    "\n",
    "        # user embeddings P\n",
    "        self.P = tf.Variable(tf.keras.initializers.RandomNormal(seed=self.seed)(shape=(self.m, self.k)))\n",
    "\n",
    "        # item embeddings Q\n",
    "        self.Q = tf.Variable(tf.keras.initializers.RandomNormal(seed=self.seed)(shape=(self.n, self.k)))\n",
    "\n",
    "        # bias term\n",
    "        self.B_user = tf.Variable(tf.keras.initializers.RandomNormal(seed=self.seed)(shape=(self.m, 1)))\n",
    "        self.B_item = tf.Variable(tf.keras.initializers.RandomNormal(seed=self.seed)(shape=(self.n, 1)))\n",
    "\n",
    "        # optimizer\n",
    "        self.optimizer = tf.optimizers.Adam(learning_rate=self.lr)\n",
    "        self.optimizer_update = tf.optimizers.Adam(learning_rate=self.lr_update)\n",
    "\n",
    "    @tf.function\n",
    "    def call(self, user_ids: tf.Tensor, item_ids: tf.Tensor) -> tf.Tensor:\n",
    "        '''\n",
    "        Forward pass used in training and validating\n",
    "        '''\n",
    "        # dot product the user and item embeddings corresponding to the observed interaction pairs to produce predictions\n",
    "        y_pred = tf.reduce_sum(tf.gather(self.P, indices=user_ids) * tf.gather(self.Q, indices=item_ids), axis=1)\n",
    "        y_pred = tf.add(y_pred, tf.squeeze(tf.gather(self.B_user, indices=user_ids)))\n",
    "        y_pred = tf.add(y_pred, tf.squeeze(tf.gather(self.B_item, indices=item_ids)))\n",
    "\n",
    "        return y_pred\n",
    "\n",
    "    @tf.function\n",
    "    def compute_loss(self, y_true: tf.Tensor, y_pred: tf.Tensor, regularization) -> tf.Tensor:\n",
    "        '''\n",
    "        Compute the MSE loss of the model\n",
    "        '''\n",
    "        if regularization:\n",
    "            loss = tf.losses.mean_squared_error(y_true, y_pred)\n",
    "            reg = 0.01 * (tf.nn.l2_loss(self.Q) + tf.nn.l2_loss(self.P) +\n",
    "                          tf.nn.l2_loss(self.B_item) + tf.nn.l2_loss(self.B_user))\n",
    "            loss += reg\n",
    "        else:\n",
    "            loss = tf.losses.mean_squared_error(y_true, y_pred)\n",
    "\n",
    "        return loss\n",
    "\n",
    "    @tf.function\n",
    "    def train_step(self, data: tf.Tensor) -> tf.Tensor:\n",
    "        '''\n",
    "        Train the model with one batch\n",
    "        data: batched user-item interactions\n",
    "        each record in data is in the format [UserID, MovieID, Rating, Timestamp]\n",
    "        '''\n",
    "        user_ids = tf.cast(data[:, 0], dtype=tf.int32)\n",
    "        item_ids = tf.cast(data[:, 1], dtype=tf.int32)\n",
    "        y_true = tf.cast(data[:, 2], dtype=tf.float32)\n",
    "\n",
    "        # compute loss\n",
    "        with tf.GradientTape() as tape:\n",
    "            y_pred = self(user_ids, item_ids)\n",
    "            loss = self.compute_loss(y_true, y_pred, self.reg_train)\n",
    "\n",
    "        # compute gradients\n",
    "        gradients = tape.gradient(loss, self.trainable_variables)\n",
    "\n",
    "        # update weights\n",
    "        self.optimizer.apply_gradients(zip(gradients, self.trainable_variables))\n",
    "\n",
    "        return loss\n",
    "\n",
    "    @tf.function\n",
    "    def val_step(self, data: tf.Tensor) -> tf.Tensor:\n",
    "        '''\n",
    "        Validate the model with one batch\n",
    "        data: batched user-item interactions\n",
    "        each record in data is in the format [UserID, MovieID, Rating, Timestamp]\n",
    "        '''\n",
    "        user_ids = tf.cast(data[:, 0], dtype=tf.int32)\n",
    "        item_ids = tf.cast(data[:, 1], dtype=tf.int32)\n",
    "        y_true = tf.cast(data[:, 2], dtype=tf.float32)\n",
    "\n",
    "        # compute loss\n",
    "        y_pred = self(user_ids, item_ids)\n",
    "        loss = self.compute_loss(y_true, y_pred, self.reg_train)\n",
    "\n",
    "        return loss\n",
    "\n",
    "    @tf.function\n",
    "    def eval_predict_onestep(self, query: tf.Tensor) -> tf.Tensor:\n",
    "        '''\n",
    "        Retrieve and return the MovieIDs of the 10 recommended movies given a query\n",
    "        You should return a tf.Tensor with shape=(10,)\n",
    "        query will be a tf.Tensor with shape=(2,) and dtype=tf.int64\n",
    "        query[0] is the UserID of the query\n",
    "        query[1] is the Timestamp of the query\n",
    "        Please make sure you have called this method at least once before calling model.save()\n",
    "        '''\n",
    "        # dot product the selected user and all item embeddings to produce predictions\n",
    "        user_id = tf.cast(query[0], tf.int32)\n",
    "        y_pred = tf.reduce_sum(tf.gather(self.P, user_id) * self.Q, axis=1)\n",
    "        y_pred = tf.add(tf.gather(self.B_user, user_id), y_pred)\n",
    "        y_pred = tf.add(tf.squeeze(self.B_item), y_pred)\n",
    "\n",
    "        # select the top 10 items with highest scores in y_pred\n",
    "        y_top_10 = tf.math.top_k(y_pred, k=10).indices\n",
    "\n",
    "        return y_top_10\n",
    "\n",
    "    @tf.function\n",
    "    def eval_update_onestep(self, data: tf.Tensor) -> None:\n",
    "        '''\n",
    "        Update your model with the ground truth data of the last query\n",
    "        If your model does not require test-time updating, you should still define this method and leave it empty\n",
    "        data will be a tf.Tensor with shape=(4,) and dtype=tf.int64\n",
    "        data[0] is the UserID\n",
    "        data[1] is the MovieID \n",
    "        data[2] is the Rating\n",
    "        data[3] is the Timestamp\n",
    "        Please make sure you have called this method at least once before calling model.save()\n",
    "        '''\n",
    "        data = data[None, :]  # add a dim on axis 0\n",
    "        user_ids = tf.cast(data[:, 0], dtype=tf.int32)\n",
    "        item_ids = tf.cast(data[:, 1], dtype=tf.int32)\n",
    "        y_true = tf.cast(data[:, 2], dtype=tf.float32)\n",
    "\n",
    "        # compute loss\n",
    "        with tf.GradientTape() as tape:\n",
    "            y_pred = self(user_ids, item_ids)\n",
    "            loss = self.compute_loss(y_true, y_pred, self.reg_update)\n",
    "\n",
    "        # compute gradients\n",
    "        gradients = tape.gradient(loss, self.trainable_variables)\n",
    "\n",
    "        # update weights\n",
    "        self.optimizer_update.apply_gradients(zip(gradients, self.trainable_variables))\n"
   ]
  },
  {
   "attachments": {},
   "cell_type": "markdown",
   "metadata": {},
   "source": [
    "## Split datasets"
   ]
  },
  {
   "cell_type": "code",
   "execution_count": 11,
   "metadata": {},
   "outputs": [
    {
     "name": "stderr",
     "output_type": "stream",
     "text": [
      "100%|██████████| 6040/6040 [00:05<00:00, 1039.37it/s]\n"
     ]
    }
   ],
   "source": [
    "from tqdm import tqdm\n",
    "\n",
    "# interactions with rating >= 4 are positive interactions\n",
    "POSITIVE_THRESHOLD = 4\n",
    "\n",
    "# each per-user validation set should contain at least 5 positive interactions\n",
    "POSITIVE_PER_USER = 5\n",
    "\n",
    "train_dataframes = []\n",
    "val_dataframes = []\n",
    "\n",
    "for i in tqdm(range(M_USERS)):\n",
    "    user_all = df_ratings[df_ratings['UserID'] == i]\n",
    "    user_positive = user_all[user_all['Rating'] >= POSITIVE_THRESHOLD]\n",
    "\n",
    "    # check if there are enough positive interactions to build a validation set for this user\n",
    "    if len(user_positive) >= POSITIVE_PER_USER:\n",
    "        split_idx = user_positive.iloc[-POSITIVE_PER_USER].name\n",
    "        user_train = user_all.loc[:split_idx]\n",
    "        user_test = user_all.loc[split_idx:]\n",
    "        assert user_train['Timestamp'].max() <= user_test['Timestamp'].min()\n",
    "        train_dataframes.append(user_train)\n",
    "        val_dataframes.append(user_test)\n",
    "    else:\n",
    "        train_dataframes.append(user_all)\n",
    "\n",
    "# concat all per-user training sets\n",
    "df_train = pd.concat(train_dataframes).sort_values(by='Timestamp', ascending=True, ignore_index=True)\n",
    "\n",
    "# normalize the ratings (may be beneficial to some models)\n",
    "df_train_norm = df_train\n",
    "df_train_norm['Rating'] -= 3\n",
    "df_train_norm['Rating'] /= 2\n",
    "\n",
    "# concat all per-user validation sets\n",
    "df_val = pd.concat(val_dataframes).sort_values(by='Timestamp', ascending=True, ignore_index=True)\n",
    "\n",
    "# normalize the ratings (may be beneficial to some models)\n",
    "# here we make a copy of the un-normalized validation set for evaluation\n",
    "df_val_norm = df_val.copy(deep=True)\n",
    "df_val_norm['Rating'] -= 3\n",
    "df_val_norm['Rating'] /= 2\n",
    "\n",
    "df_all_norm = pd.concat([df_train_norm, df_val_norm])\n"
   ]
  },
  {
   "cell_type": "code",
   "execution_count": 12,
   "metadata": {},
   "outputs": [
    {
     "name": "stdout",
     "output_type": "stream",
     "text": [
      "bias_mu =  0.30897201051410106\n"
     ]
    }
   ],
   "source": [
    "# Get bias_mu\n",
    "BIAS_MU = df_train_norm['Rating'].mean()\n",
    "print('bias_mu = ', BIAS_MU)\n"
   ]
  },
  {
   "attachments": {},
   "cell_type": "markdown",
   "metadata": {},
   "source": [
    "## Evaluation metric"
   ]
  },
  {
   "cell_type": "code",
   "execution_count": 13,
   "metadata": {},
   "outputs": [],
   "source": [
    "@tf.function\n",
    "def log2(x: tf.Tensor) -> tf.Tensor:\n",
    "    return tf.math.log(tf.cast(x, tf.float32)) / tf.math.log(2.)\n",
    "\n",
    "\n",
    "@tf.function\n",
    "def ndcg_at_10(y_true: tf.Tensor, y_pred: tf.Tensor) -> tf.Tensor:\n",
    "    y_pred = y_pred[:10]\n",
    "    idx = tf.equal(tf.cast(y_pred, tf.int32), tf.cast(y_true, tf.int32))\n",
    "    if tf.reduce_sum(tf.cast(idx, tf.int32)) > 0:\n",
    "        return 1. / log2(2 + tf.argmax(idx))\n",
    "    else:\n",
    "        return tf.constant(0.)\n",
    "\n",
    "\n",
    "@tf.function\n",
    "def recall_at_10(y_true: tf.Tensor, y_pred: tf.Tensor) -> tf.Tensor:\n",
    "    y_pred = y_pred[:10]\n",
    "    idx = tf.equal(tf.cast(y_pred, tf.int32), tf.cast(y_true, tf.int32))\n",
    "    if tf.reduce_sum(tf.cast(idx, tf.int32)) > 0:\n",
    "        return tf.constant(1.)\n",
    "    else:\n",
    "        return tf.constant(0.)\n",
    "\n",
    "\n",
    "def evaluate(model: tf.keras.Model, dataset: tf.data.Dataset) -> tuple:\n",
    "    '''\n",
    "    For each data point in the dataset:\n",
    "    data[0] is the UserID\n",
    "    data[1] is the MovieID \n",
    "    data[2] is the Rating\n",
    "    data[3] is the Timestamp\n",
    "    '''\n",
    "    ndcg_scores = []\n",
    "    recall_scores = []\n",
    "\n",
    "    for data in tqdm(dataset, desc='Evaluating'):\n",
    "        # query the model to make predictions if the observed event is a positive interaction (ratings >= 4)\n",
    "        if data[2] >= 4:\n",
    "            y_pred = model.eval_predict_onestep(tf.gather(data, (0, 3)))\n",
    "            y_true = tf.gather(data, 1)\n",
    "            ndcg = ndcg_at_10(y_true, y_pred)\n",
    "            recall = recall_at_10(y_true, y_pred)\n",
    "            ndcg_scores.append(ndcg)\n",
    "            recall_scores.append(recall)\n",
    "\n",
    "        # update the model with the observerd event\n",
    "        model.eval_update_onestep(data)\n",
    "\n",
    "    ndcg_result = tf.reduce_mean(ndcg_scores).numpy()\n",
    "    recall_result = tf.reduce_mean(recall_scores).numpy()\n",
    "\n",
    "    return ndcg_result, recall_result\n"
   ]
  },
  {
   "attachments": {},
   "cell_type": "markdown",
   "metadata": {},
   "source": [
    "## Train the model"
   ]
  },
  {
   "cell_type": "code",
   "execution_count": 14,
   "metadata": {},
   "outputs": [],
   "source": [
    "# hyperparameters\n",
    "EMBEDDING_SIZE = 512\n",
    "BATCH_SIZE = 512\n",
    "N_EPOCHS = 100\n",
    "LEARNING_RATE = 2e-5\n",
    "LEARNING_RATE_UPDATE = 1e-5\n",
    "SEED = 0\n",
    "TRAIN_ON_TRAIN = False  # False is for \"TRAIN_ON_TRAIN+VAL\"\n",
    "\n",
    "# bad result if adding regularization\n",
    "REGULARIZATION_TRAIN = False\n",
    "REGULARIZATION_UPDATE = False\n"
   ]
  },
  {
   "cell_type": "code",
   "execution_count": 15,
   "metadata": {},
   "outputs": [
    {
     "name": "stdout",
     "output_type": "stream",
     "text": [
      "dataset prepared!\n",
      "model set!\n",
      "Epoch 1:\n"
     ]
    },
    {
     "name": "stderr",
     "output_type": "stream",
     "text": [
      "Training: 100%|██████████| 1848/1848 [00:03<00:00, 540.18it/s]\n",
      "Validating: 100%|██████████| 102/102 [00:00<00:00, 830.32it/s]\n"
     ]
    },
    {
     "name": "stdout",
     "output_type": "stream",
     "text": [
      "Epoch 1 train_loss: 0.4019, val_loss: 0.3884\n",
      "\n",
      "Epoch 2:\n"
     ]
    },
    {
     "name": "stderr",
     "output_type": "stream",
     "text": [
      "Training: 100%|██████████| 1848/1848 [00:02<00:00, 654.21it/s]\n",
      "Validating: 100%|██████████| 102/102 [00:00<00:00, 2427.01it/s]\n"
     ]
    },
    {
     "name": "stdout",
     "output_type": "stream",
     "text": [
      "Epoch 2 train_loss: 0.3889, val_loss: 0.3749\n",
      "\n",
      "Epoch 3:\n"
     ]
    },
    {
     "name": "stderr",
     "output_type": "stream",
     "text": [
      "Training: 100%|██████████| 1848/1848 [00:02<00:00, 648.25it/s]\n",
      "Validating: 100%|██████████| 102/102 [00:00<00:00, 2302.21it/s]\n"
     ]
    },
    {
     "name": "stdout",
     "output_type": "stream",
     "text": [
      "Epoch 3 train_loss: 0.3762, val_loss: 0.3619\n",
      "\n",
      "Epoch 4:\n"
     ]
    },
    {
     "name": "stderr",
     "output_type": "stream",
     "text": [
      "Training: 100%|██████████| 1848/1848 [00:02<00:00, 643.88it/s]\n",
      "Validating: 100%|██████████| 102/102 [00:00<00:00, 2288.65it/s]\n"
     ]
    },
    {
     "name": "stdout",
     "output_type": "stream",
     "text": [
      "Epoch 4 train_loss: 0.3639, val_loss: 0.3495\n",
      "\n",
      "Epoch 5:\n"
     ]
    },
    {
     "name": "stderr",
     "output_type": "stream",
     "text": [
      "Training: 100%|██████████| 1848/1848 [00:02<00:00, 646.73it/s]\n",
      "Validating: 100%|██████████| 102/102 [00:00<00:00, 2378.60it/s]\n"
     ]
    },
    {
     "name": "stdout",
     "output_type": "stream",
     "text": [
      "Epoch 5 train_loss: 0.3522, val_loss: 0.3375\n",
      "\n",
      "Epoch 6:\n"
     ]
    },
    {
     "name": "stderr",
     "output_type": "stream",
     "text": [
      "Training: 100%|██████████| 1848/1848 [00:02<00:00, 649.38it/s]\n",
      "Validating: 100%|██████████| 102/102 [00:00<00:00, 2225.27it/s]\n"
     ]
    },
    {
     "name": "stdout",
     "output_type": "stream",
     "text": [
      "Epoch 6 train_loss: 0.3408, val_loss: 0.3261\n",
      "\n",
      "Epoch 7:\n"
     ]
    },
    {
     "name": "stderr",
     "output_type": "stream",
     "text": [
      "Training: 100%|██████████| 1848/1848 [00:02<00:00, 646.54it/s]\n",
      "Validating: 100%|██████████| 102/102 [00:00<00:00, 2433.26it/s]\n"
     ]
    },
    {
     "name": "stdout",
     "output_type": "stream",
     "text": [
      "Epoch 7 train_loss: 0.3298, val_loss: 0.3151\n",
      "\n",
      "Epoch 8:\n"
     ]
    },
    {
     "name": "stderr",
     "output_type": "stream",
     "text": [
      "Training: 100%|██████████| 1848/1848 [00:02<00:00, 645.00it/s]\n",
      "Validating: 100%|██████████| 102/102 [00:00<00:00, 2520.88it/s]\n"
     ]
    },
    {
     "name": "stdout",
     "output_type": "stream",
     "text": [
      "Epoch 8 train_loss: 0.3192, val_loss: 0.3045\n",
      "\n",
      "Epoch 9:\n"
     ]
    },
    {
     "name": "stderr",
     "output_type": "stream",
     "text": [
      "Training: 100%|██████████| 1848/1848 [00:02<00:00, 651.24it/s]\n",
      "Validating: 100%|██████████| 102/102 [00:00<00:00, 2454.13it/s]\n"
     ]
    },
    {
     "name": "stdout",
     "output_type": "stream",
     "text": [
      "Epoch 9 train_loss: 0.3089, val_loss: 0.2943\n",
      "\n",
      "Epoch 10:\n"
     ]
    },
    {
     "name": "stderr",
     "output_type": "stream",
     "text": [
      "Training: 100%|██████████| 1848/1848 [00:02<00:00, 652.29it/s]\n",
      "Validating: 100%|██████████| 102/102 [00:00<00:00, 2355.74it/s]\n"
     ]
    },
    {
     "name": "stdout",
     "output_type": "stream",
     "text": [
      "Epoch 10 train_loss: 0.2988, val_loss: 0.2844\n",
      "\n",
      "Epoch 11:\n"
     ]
    },
    {
     "name": "stderr",
     "output_type": "stream",
     "text": [
      "Training: 100%|██████████| 1848/1848 [00:02<00:00, 645.85it/s]\n",
      "Validating: 100%|██████████| 102/102 [00:00<00:00, 2538.77it/s]\n"
     ]
    },
    {
     "name": "stdout",
     "output_type": "stream",
     "text": [
      "Epoch 11 train_loss: 0.2890, val_loss: 0.2749\n",
      "\n",
      "Epoch 12:\n"
     ]
    },
    {
     "name": "stderr",
     "output_type": "stream",
     "text": [
      "Training: 100%|██████████| 1848/1848 [00:02<00:00, 648.46it/s]\n",
      "Validating: 100%|██████████| 102/102 [00:00<00:00, 2400.79it/s]\n"
     ]
    },
    {
     "name": "stdout",
     "output_type": "stream",
     "text": [
      "Epoch 12 train_loss: 0.2795, val_loss: 0.2656\n",
      "\n",
      "Epoch 13:\n"
     ]
    },
    {
     "name": "stderr",
     "output_type": "stream",
     "text": [
      "Training: 100%|██████████| 1848/1848 [00:02<00:00, 648.77it/s]\n",
      "Validating: 100%|██████████| 102/102 [00:00<00:00, 2495.47it/s]\n"
     ]
    },
    {
     "name": "stdout",
     "output_type": "stream",
     "text": [
      "Epoch 13 train_loss: 0.2702, val_loss: 0.2567\n",
      "\n",
      "Epoch 14:\n"
     ]
    },
    {
     "name": "stderr",
     "output_type": "stream",
     "text": [
      "Training: 100%|██████████| 1848/1848 [00:02<00:00, 653.99it/s]\n",
      "Validating: 100%|██████████| 102/102 [00:00<00:00, 2484.72it/s]\n"
     ]
    },
    {
     "name": "stdout",
     "output_type": "stream",
     "text": [
      "Epoch 14 train_loss: 0.2612, val_loss: 0.2481\n",
      "\n",
      "Epoch 15:\n"
     ]
    },
    {
     "name": "stderr",
     "output_type": "stream",
     "text": [
      "Training: 100%|██████████| 1848/1848 [00:02<00:00, 644.75it/s]\n",
      "Validating: 100%|██████████| 102/102 [00:00<00:00, 2413.87it/s]\n"
     ]
    },
    {
     "name": "stdout",
     "output_type": "stream",
     "text": [
      "Epoch 15 train_loss: 0.2526, val_loss: 0.2399\n",
      "\n",
      "Epoch 16:\n"
     ]
    },
    {
     "name": "stderr",
     "output_type": "stream",
     "text": [
      "Training: 100%|██████████| 1848/1848 [00:02<00:00, 647.00it/s]\n",
      "Validating: 100%|██████████| 102/102 [00:00<00:00, 2459.66it/s]\n"
     ]
    },
    {
     "name": "stdout",
     "output_type": "stream",
     "text": [
      "Epoch 16 train_loss: 0.2443, val_loss: 0.2319\n",
      "\n",
      "Epoch 17:\n"
     ]
    },
    {
     "name": "stderr",
     "output_type": "stream",
     "text": [
      "Training: 100%|██████████| 1848/1848 [00:02<00:00, 647.98it/s]\n",
      "Validating: 100%|██████████| 102/102 [00:00<00:00, 2363.78it/s]\n"
     ]
    },
    {
     "name": "stdout",
     "output_type": "stream",
     "text": [
      "Epoch 17 train_loss: 0.2364, val_loss: 0.2244\n",
      "\n",
      "Epoch 18:\n"
     ]
    },
    {
     "name": "stderr",
     "output_type": "stream",
     "text": [
      "Training: 100%|██████████| 1848/1848 [00:02<00:00, 647.21it/s]\n",
      "Validating: 100%|██████████| 102/102 [00:00<00:00, 2476.78it/s]\n"
     ]
    },
    {
     "name": "stdout",
     "output_type": "stream",
     "text": [
      "Epoch 18 train_loss: 0.2290, val_loss: 0.2171\n",
      "\n",
      "Epoch 19:\n"
     ]
    },
    {
     "name": "stderr",
     "output_type": "stream",
     "text": [
      "Training: 100%|██████████| 1848/1848 [00:02<00:00, 650.39it/s]\n",
      "Validating: 100%|██████████| 102/102 [00:00<00:00, 2577.95it/s]\n"
     ]
    },
    {
     "name": "stdout",
     "output_type": "stream",
     "text": [
      "Epoch 19 train_loss: 0.2220, val_loss: 0.2103\n",
      "\n",
      "Epoch 20:\n"
     ]
    },
    {
     "name": "stderr",
     "output_type": "stream",
     "text": [
      "Training: 100%|██████████| 1848/1848 [00:02<00:00, 646.31it/s]\n",
      "Validating: 100%|██████████| 102/102 [00:00<00:00, 2391.16it/s]\n"
     ]
    },
    {
     "name": "stdout",
     "output_type": "stream",
     "text": [
      "Epoch 20 train_loss: 0.2156, val_loss: 0.2037\n",
      "\n",
      "Epoch 21:\n"
     ]
    },
    {
     "name": "stderr",
     "output_type": "stream",
     "text": [
      "Training: 100%|██████████| 1848/1848 [00:02<00:00, 649.35it/s]\n",
      "Validating: 100%|██████████| 102/102 [00:00<00:00, 2408.62it/s]\n"
     ]
    },
    {
     "name": "stdout",
     "output_type": "stream",
     "text": [
      "Epoch 21 train_loss: 0.2096, val_loss: 0.1975\n",
      "\n",
      "Epoch 22:\n"
     ]
    },
    {
     "name": "stderr",
     "output_type": "stream",
     "text": [
      "Training: 100%|██████████| 1848/1848 [00:02<00:00, 647.96it/s]\n",
      "Validating: 100%|██████████| 102/102 [00:00<00:00, 2481.32it/s]\n"
     ]
    },
    {
     "name": "stdout",
     "output_type": "stream",
     "text": [
      "Epoch 22 train_loss: 0.2041, val_loss: 0.1916\n",
      "\n",
      "Epoch 23:\n"
     ]
    },
    {
     "name": "stderr",
     "output_type": "stream",
     "text": [
      "Training: 100%|██████████| 1848/1848 [00:02<00:00, 649.45it/s]\n",
      "Validating: 100%|██████████| 102/102 [00:00<00:00, 2414.96it/s]\n"
     ]
    },
    {
     "name": "stdout",
     "output_type": "stream",
     "text": [
      "Epoch 23 train_loss: 0.1990, val_loss: 0.1860\n",
      "\n",
      "Epoch 24:\n"
     ]
    },
    {
     "name": "stderr",
     "output_type": "stream",
     "text": [
      "Training: 100%|██████████| 1848/1848 [00:02<00:00, 649.18it/s]\n",
      "Validating: 100%|██████████| 102/102 [00:00<00:00, 2415.86it/s]\n"
     ]
    },
    {
     "name": "stdout",
     "output_type": "stream",
     "text": [
      "Epoch 24 train_loss: 0.1942, val_loss: 0.1806\n",
      "\n",
      "Epoch 25:\n"
     ]
    },
    {
     "name": "stderr",
     "output_type": "stream",
     "text": [
      "Training: 100%|██████████| 1848/1848 [00:02<00:00, 644.81it/s]\n",
      "Validating: 100%|██████████| 102/102 [00:00<00:00, 2340.90it/s]\n"
     ]
    },
    {
     "name": "stdout",
     "output_type": "stream",
     "text": [
      "Epoch 25 train_loss: 0.1898, val_loss: 0.1754\n",
      "\n",
      "Epoch 26:\n"
     ]
    },
    {
     "name": "stderr",
     "output_type": "stream",
     "text": [
      "Training: 100%|██████████| 1848/1848 [00:02<00:00, 647.56it/s]\n",
      "Validating: 100%|██████████| 102/102 [00:00<00:00, 2436.31it/s]\n"
     ]
    },
    {
     "name": "stdout",
     "output_type": "stream",
     "text": [
      "Epoch 26 train_loss: 0.1856, val_loss: 0.1703\n",
      "\n",
      "Epoch 27:\n"
     ]
    },
    {
     "name": "stderr",
     "output_type": "stream",
     "text": [
      "Training: 100%|██████████| 1848/1848 [00:02<00:00, 649.32it/s]\n",
      "Validating: 100%|██████████| 102/102 [00:00<00:00, 2351.47it/s]\n"
     ]
    },
    {
     "name": "stdout",
     "output_type": "stream",
     "text": [
      "Epoch 27 train_loss: 0.1816, val_loss: 0.1655\n",
      "\n",
      "Epoch 28:\n"
     ]
    },
    {
     "name": "stderr",
     "output_type": "stream",
     "text": [
      "Training: 100%|██████████| 1848/1848 [00:02<00:00, 652.76it/s]\n",
      "Validating: 100%|██████████| 102/102 [00:00<00:00, 2536.50it/s]\n"
     ]
    },
    {
     "name": "stdout",
     "output_type": "stream",
     "text": [
      "Epoch 28 train_loss: 0.1778, val_loss: 0.1608\n",
      "\n",
      "Epoch 29:\n"
     ]
    },
    {
     "name": "stderr",
     "output_type": "stream",
     "text": [
      "Training: 100%|██████████| 1848/1848 [00:02<00:00, 649.88it/s]\n",
      "Validating: 100%|██████████| 102/102 [00:00<00:00, 2504.78it/s]\n"
     ]
    },
    {
     "name": "stdout",
     "output_type": "stream",
     "text": [
      "Epoch 29 train_loss: 0.1741, val_loss: 0.1562\n",
      "\n",
      "Epoch 30:\n"
     ]
    },
    {
     "name": "stderr",
     "output_type": "stream",
     "text": [
      "Training: 100%|██████████| 1848/1848 [00:02<00:00, 646.81it/s]\n",
      "Validating: 100%|██████████| 102/102 [00:00<00:00, 2388.21it/s]\n"
     ]
    },
    {
     "name": "stdout",
     "output_type": "stream",
     "text": [
      "Epoch 30 train_loss: 0.1705, val_loss: 0.1517\n",
      "\n",
      "Epoch 31:\n"
     ]
    },
    {
     "name": "stderr",
     "output_type": "stream",
     "text": [
      "Training: 100%|██████████| 1848/1848 [00:02<00:00, 643.00it/s]\n",
      "Validating: 100%|██████████| 102/102 [00:00<00:00, 2512.10it/s]\n"
     ]
    },
    {
     "name": "stdout",
     "output_type": "stream",
     "text": [
      "Epoch 31 train_loss: 0.1671, val_loss: 0.1474\n",
      "\n",
      "Epoch 32:\n"
     ]
    },
    {
     "name": "stderr",
     "output_type": "stream",
     "text": [
      "Training: 100%|██████████| 1848/1848 [00:02<00:00, 646.20it/s]\n",
      "Validating: 100%|██████████| 102/102 [00:00<00:00, 2400.15it/s]\n"
     ]
    },
    {
     "name": "stdout",
     "output_type": "stream",
     "text": [
      "Epoch 32 train_loss: 0.1638, val_loss: 0.1431\n",
      "\n",
      "Epoch 33:\n"
     ]
    },
    {
     "name": "stderr",
     "output_type": "stream",
     "text": [
      "Training: 100%|██████████| 1848/1848 [00:02<00:00, 643.81it/s]\n",
      "Validating: 100%|██████████| 102/102 [00:00<00:00, 2469.50it/s]\n"
     ]
    },
    {
     "name": "stdout",
     "output_type": "stream",
     "text": [
      "Epoch 33 train_loss: 0.1605, val_loss: 0.1389\n",
      "\n",
      "Epoch 34:\n"
     ]
    },
    {
     "name": "stderr",
     "output_type": "stream",
     "text": [
      "Training: 100%|██████████| 1848/1848 [00:02<00:00, 643.64it/s]\n",
      "Validating: 100%|██████████| 102/102 [00:00<00:00, 2397.55it/s]\n"
     ]
    },
    {
     "name": "stdout",
     "output_type": "stream",
     "text": [
      "Epoch 34 train_loss: 0.1574, val_loss: 0.1348\n",
      "\n",
      "Epoch 35:\n"
     ]
    },
    {
     "name": "stderr",
     "output_type": "stream",
     "text": [
      "Training: 100%|██████████| 1848/1848 [00:02<00:00, 647.40it/s]\n",
      "Validating: 100%|██████████| 102/102 [00:00<00:00, 2423.90it/s]\n"
     ]
    },
    {
     "name": "stdout",
     "output_type": "stream",
     "text": [
      "Epoch 35 train_loss: 0.1543, val_loss: 0.1308\n",
      "\n",
      "Epoch 36:\n"
     ]
    },
    {
     "name": "stderr",
     "output_type": "stream",
     "text": [
      "Training: 100%|██████████| 1848/1848 [00:02<00:00, 646.78it/s]\n",
      "Validating: 100%|██████████| 102/102 [00:00<00:00, 2505.53it/s]\n"
     ]
    },
    {
     "name": "stdout",
     "output_type": "stream",
     "text": [
      "Epoch 36 train_loss: 0.1512, val_loss: 0.1269\n",
      "\n",
      "Epoch 37:\n"
     ]
    },
    {
     "name": "stderr",
     "output_type": "stream",
     "text": [
      "Training: 100%|██████████| 1848/1848 [00:02<00:00, 641.63it/s]\n",
      "Validating: 100%|██████████| 102/102 [00:00<00:00, 2451.22it/s]\n"
     ]
    },
    {
     "name": "stdout",
     "output_type": "stream",
     "text": [
      "Epoch 37 train_loss: 0.1483, val_loss: 0.1231\n",
      "\n",
      "Epoch 38:\n"
     ]
    },
    {
     "name": "stderr",
     "output_type": "stream",
     "text": [
      "Training: 100%|██████████| 1848/1848 [00:02<00:00, 649.08it/s]\n",
      "Validating: 100%|██████████| 102/102 [00:00<00:00, 2504.21it/s]\n"
     ]
    },
    {
     "name": "stdout",
     "output_type": "stream",
     "text": [
      "Epoch 38 train_loss: 0.1454, val_loss: 0.1194\n",
      "\n",
      "Epoch 39:\n"
     ]
    },
    {
     "name": "stderr",
     "output_type": "stream",
     "text": [
      "Training: 100%|██████████| 1848/1848 [00:02<00:00, 648.10it/s]\n",
      "Validating: 100%|██████████| 102/102 [00:00<00:00, 2421.17it/s]\n"
     ]
    },
    {
     "name": "stdout",
     "output_type": "stream",
     "text": [
      "Epoch 39 train_loss: 0.1426, val_loss: 0.1157\n",
      "\n",
      "Epoch 40:\n"
     ]
    },
    {
     "name": "stderr",
     "output_type": "stream",
     "text": [
      "Training: 100%|██████████| 1848/1848 [00:02<00:00, 643.83it/s]\n",
      "Validating: 100%|██████████| 102/102 [00:00<00:00, 2391.80it/s]\n"
     ]
    },
    {
     "name": "stdout",
     "output_type": "stream",
     "text": [
      "Epoch 40 train_loss: 0.1398, val_loss: 0.1121\n",
      "\n",
      "Epoch 41:\n"
     ]
    },
    {
     "name": "stderr",
     "output_type": "stream",
     "text": [
      "Training: 100%|██████████| 1848/1848 [00:02<00:00, 638.31it/s]\n",
      "Validating: 100%|██████████| 102/102 [00:00<00:00, 2436.59it/s]\n"
     ]
    },
    {
     "name": "stdout",
     "output_type": "stream",
     "text": [
      "Epoch 41 train_loss: 0.1371, val_loss: 0.1087\n",
      "\n",
      "Epoch 42:\n"
     ]
    },
    {
     "name": "stderr",
     "output_type": "stream",
     "text": [
      "Training: 100%|██████████| 1848/1848 [00:02<00:00, 646.34it/s]\n",
      "Validating: 100%|██████████| 102/102 [00:00<00:00, 2545.97it/s]\n"
     ]
    },
    {
     "name": "stdout",
     "output_type": "stream",
     "text": [
      "Epoch 42 train_loss: 0.1344, val_loss: 0.1052\n",
      "\n",
      "Epoch 43:\n"
     ]
    },
    {
     "name": "stderr",
     "output_type": "stream",
     "text": [
      "Training: 100%|██████████| 1848/1848 [00:02<00:00, 647.45it/s]\n",
      "Validating: 100%|██████████| 102/102 [00:00<00:00, 2460.94it/s]\n"
     ]
    },
    {
     "name": "stdout",
     "output_type": "stream",
     "text": [
      "Epoch 43 train_loss: 0.1318, val_loss: 0.1019\n",
      "\n",
      "Epoch 44:\n"
     ]
    },
    {
     "name": "stderr",
     "output_type": "stream",
     "text": [
      "Training: 100%|██████████| 1848/1848 [00:02<00:00, 644.89it/s]\n",
      "Validating: 100%|██████████| 102/102 [00:00<00:00, 2433.44it/s]\n"
     ]
    },
    {
     "name": "stdout",
     "output_type": "stream",
     "text": [
      "Epoch 44 train_loss: 0.1292, val_loss: 0.0986\n",
      "\n",
      "Epoch 45:\n"
     ]
    },
    {
     "name": "stderr",
     "output_type": "stream",
     "text": [
      "Training: 100%|██████████| 1848/1848 [00:02<00:00, 651.23it/s]\n",
      "Validating: 100%|██████████| 102/102 [00:00<00:00, 2416.01it/s]\n"
     ]
    },
    {
     "name": "stdout",
     "output_type": "stream",
     "text": [
      "Epoch 45 train_loss: 0.1267, val_loss: 0.0954\n",
      "\n",
      "Epoch 46:\n"
     ]
    },
    {
     "name": "stderr",
     "output_type": "stream",
     "text": [
      "Training: 100%|██████████| 1848/1848 [00:02<00:00, 646.95it/s]\n",
      "Validating: 100%|██████████| 102/102 [00:00<00:00, 2558.74it/s]\n"
     ]
    },
    {
     "name": "stdout",
     "output_type": "stream",
     "text": [
      "Epoch 46 train_loss: 0.1242, val_loss: 0.0923\n",
      "\n",
      "Epoch 47:\n"
     ]
    },
    {
     "name": "stderr",
     "output_type": "stream",
     "text": [
      "Training: 100%|██████████| 1848/1848 [00:02<00:00, 650.24it/s]\n",
      "Validating: 100%|██████████| 102/102 [00:00<00:00, 2475.12it/s]\n"
     ]
    },
    {
     "name": "stdout",
     "output_type": "stream",
     "text": [
      "Epoch 47 train_loss: 0.1218, val_loss: 0.0893\n",
      "\n",
      "Epoch 48:\n"
     ]
    },
    {
     "name": "stderr",
     "output_type": "stream",
     "text": [
      "Training: 100%|██████████| 1848/1848 [00:02<00:00, 647.82it/s]\n",
      "Validating: 100%|██████████| 102/102 [00:00<00:00, 2409.53it/s]\n"
     ]
    },
    {
     "name": "stdout",
     "output_type": "stream",
     "text": [
      "Epoch 48 train_loss: 0.1194, val_loss: 0.0863\n",
      "\n",
      "Epoch 49:\n"
     ]
    },
    {
     "name": "stderr",
     "output_type": "stream",
     "text": [
      "Training: 100%|██████████| 1848/1848 [00:02<00:00, 648.88it/s]\n",
      "Validating: 100%|██████████| 102/102 [00:00<00:00, 2503.17it/s]\n"
     ]
    },
    {
     "name": "stdout",
     "output_type": "stream",
     "text": [
      "Epoch 49 train_loss: 0.1170, val_loss: 0.0834\n",
      "\n",
      "Epoch 50:\n"
     ]
    },
    {
     "name": "stderr",
     "output_type": "stream",
     "text": [
      "Training: 100%|██████████| 1848/1848 [00:02<00:00, 649.98it/s]\n",
      "Validating: 100%|██████████| 102/102 [00:00<00:00, 2589.15it/s]\n"
     ]
    },
    {
     "name": "stdout",
     "output_type": "stream",
     "text": [
      "Epoch 50 train_loss: 0.1146, val_loss: 0.0806\n",
      "\n",
      "Epoch 51:\n"
     ]
    },
    {
     "name": "stderr",
     "output_type": "stream",
     "text": [
      "Training: 100%|██████████| 1848/1848 [00:02<00:00, 645.85it/s]\n",
      "Validating: 100%|██████████| 102/102 [00:00<00:00, 2416.57it/s]\n"
     ]
    },
    {
     "name": "stdout",
     "output_type": "stream",
     "text": [
      "Epoch 51 train_loss: 0.1123, val_loss: 0.0778\n",
      "\n",
      "Epoch 52:\n"
     ]
    },
    {
     "name": "stderr",
     "output_type": "stream",
     "text": [
      "Training: 100%|██████████| 1848/1848 [00:02<00:00, 651.25it/s]\n",
      "Validating: 100%|██████████| 102/102 [00:00<00:00, 2540.09it/s]\n"
     ]
    },
    {
     "name": "stdout",
     "output_type": "stream",
     "text": [
      "Epoch 52 train_loss: 0.1100, val_loss: 0.0751\n",
      "\n",
      "Epoch 53:\n"
     ]
    },
    {
     "name": "stderr",
     "output_type": "stream",
     "text": [
      "Training: 100%|██████████| 1848/1848 [00:02<00:00, 645.28it/s]\n",
      "Validating: 100%|██████████| 102/102 [00:00<00:00, 2364.61it/s]\n"
     ]
    },
    {
     "name": "stdout",
     "output_type": "stream",
     "text": [
      "Epoch 53 train_loss: 0.1078, val_loss: 0.0724\n",
      "\n",
      "Epoch 54:\n"
     ]
    },
    {
     "name": "stderr",
     "output_type": "stream",
     "text": [
      "Training: 100%|██████████| 1848/1848 [00:02<00:00, 645.10it/s]\n",
      "Validating: 100%|██████████| 102/102 [00:00<00:00, 2488.23it/s]\n"
     ]
    },
    {
     "name": "stdout",
     "output_type": "stream",
     "text": [
      "Epoch 54 train_loss: 0.1055, val_loss: 0.0699\n",
      "\n",
      "Epoch 55:\n"
     ]
    },
    {
     "name": "stderr",
     "output_type": "stream",
     "text": [
      "Training: 100%|██████████| 1848/1848 [00:02<00:00, 640.45it/s]\n",
      "Validating: 100%|██████████| 102/102 [00:00<00:00, 2498.33it/s]\n"
     ]
    },
    {
     "name": "stdout",
     "output_type": "stream",
     "text": [
      "Epoch 55 train_loss: 0.1033, val_loss: 0.0674\n",
      "\n",
      "Epoch 56:\n"
     ]
    },
    {
     "name": "stderr",
     "output_type": "stream",
     "text": [
      "Training: 100%|██████████| 1848/1848 [00:02<00:00, 651.51it/s]\n",
      "Validating: 100%|██████████| 102/102 [00:00<00:00, 2450.80it/s]\n"
     ]
    },
    {
     "name": "stdout",
     "output_type": "stream",
     "text": [
      "Epoch 56 train_loss: 0.1012, val_loss: 0.0649\n",
      "\n",
      "Epoch 57:\n"
     ]
    },
    {
     "name": "stderr",
     "output_type": "stream",
     "text": [
      "Training: 100%|██████████| 1848/1848 [00:02<00:00, 647.41it/s]\n",
      "Validating: 100%|██████████| 102/102 [00:00<00:00, 2436.99it/s]\n"
     ]
    },
    {
     "name": "stdout",
     "output_type": "stream",
     "text": [
      "Epoch 57 train_loss: 0.0990, val_loss: 0.0625\n",
      "\n",
      "Epoch 58:\n"
     ]
    },
    {
     "name": "stderr",
     "output_type": "stream",
     "text": [
      "Training: 100%|██████████| 1848/1848 [00:02<00:00, 648.42it/s]\n",
      "Validating: 100%|██████████| 102/102 [00:00<00:00, 2385.72it/s]\n"
     ]
    },
    {
     "name": "stdout",
     "output_type": "stream",
     "text": [
      "Epoch 58 train_loss: 0.0969, val_loss: 0.0602\n",
      "\n",
      "Epoch 59:\n"
     ]
    },
    {
     "name": "stderr",
     "output_type": "stream",
     "text": [
      "Training: 100%|██████████| 1848/1848 [00:02<00:00, 647.12it/s]\n",
      "Validating: 100%|██████████| 102/102 [00:00<00:00, 2286.40it/s]\n"
     ]
    },
    {
     "name": "stdout",
     "output_type": "stream",
     "text": [
      "Epoch 59 train_loss: 0.0948, val_loss: 0.0579\n",
      "\n",
      "Epoch 60:\n"
     ]
    },
    {
     "name": "stderr",
     "output_type": "stream",
     "text": [
      "Training: 100%|██████████| 1848/1848 [00:02<00:00, 648.04it/s]\n",
      "Validating: 100%|██████████| 102/102 [00:00<00:00, 2313.16it/s]\n"
     ]
    },
    {
     "name": "stdout",
     "output_type": "stream",
     "text": [
      "Epoch 60 train_loss: 0.0928, val_loss: 0.0557\n",
      "\n",
      "Epoch 61:\n"
     ]
    },
    {
     "name": "stderr",
     "output_type": "stream",
     "text": [
      "Training: 100%|██████████| 1848/1848 [00:02<00:00, 647.59it/s]\n",
      "Validating: 100%|██████████| 102/102 [00:00<00:00, 2529.36it/s]\n"
     ]
    },
    {
     "name": "stdout",
     "output_type": "stream",
     "text": [
      "Epoch 61 train_loss: 0.0907, val_loss: 0.0536\n",
      "\n",
      "Epoch 62:\n"
     ]
    },
    {
     "name": "stderr",
     "output_type": "stream",
     "text": [
      "Training: 100%|██████████| 1848/1848 [00:02<00:00, 646.33it/s]\n",
      "Validating: 100%|██████████| 102/102 [00:00<00:00, 2358.17it/s]\n"
     ]
    },
    {
     "name": "stdout",
     "output_type": "stream",
     "text": [
      "Epoch 62 train_loss: 0.0887, val_loss: 0.0515\n",
      "\n",
      "Epoch 63:\n"
     ]
    },
    {
     "name": "stderr",
     "output_type": "stream",
     "text": [
      "Training: 100%|██████████| 1848/1848 [00:02<00:00, 648.94it/s]\n",
      "Validating: 100%|██████████| 102/102 [00:00<00:00, 2338.72it/s]\n"
     ]
    },
    {
     "name": "stdout",
     "output_type": "stream",
     "text": [
      "Epoch 63 train_loss: 0.0868, val_loss: 0.0495\n",
      "\n",
      "Epoch 64:\n"
     ]
    },
    {
     "name": "stderr",
     "output_type": "stream",
     "text": [
      "Training: 100%|██████████| 1848/1848 [00:02<00:00, 649.91it/s]\n",
      "Validating: 100%|██████████| 102/102 [00:00<00:00, 2444.48it/s]\n"
     ]
    },
    {
     "name": "stdout",
     "output_type": "stream",
     "text": [
      "Epoch 64 train_loss: 0.0848, val_loss: 0.0476\n",
      "\n",
      "Epoch 65:\n"
     ]
    },
    {
     "name": "stderr",
     "output_type": "stream",
     "text": [
      "Training: 100%|██████████| 1848/1848 [00:02<00:00, 649.52it/s]\n",
      "Validating: 100%|██████████| 102/102 [00:00<00:00, 2444.96it/s]\n"
     ]
    },
    {
     "name": "stdout",
     "output_type": "stream",
     "text": [
      "Epoch 65 train_loss: 0.0829, val_loss: 0.0457\n",
      "\n",
      "Epoch 66:\n"
     ]
    },
    {
     "name": "stderr",
     "output_type": "stream",
     "text": [
      "Training: 100%|██████████| 1848/1848 [00:02<00:00, 642.44it/s]\n",
      "Validating: 100%|██████████| 102/102 [00:00<00:00, 2353.81it/s]\n"
     ]
    },
    {
     "name": "stdout",
     "output_type": "stream",
     "text": [
      "Epoch 66 train_loss: 0.0810, val_loss: 0.0439\n",
      "\n",
      "Epoch 67:\n"
     ]
    },
    {
     "name": "stderr",
     "output_type": "stream",
     "text": [
      "Training: 100%|██████████| 1848/1848 [00:02<00:00, 636.10it/s]\n",
      "Validating: 100%|██████████| 102/102 [00:00<00:00, 2392.07it/s]\n"
     ]
    },
    {
     "name": "stdout",
     "output_type": "stream",
     "text": [
      "Epoch 67 train_loss: 0.0791, val_loss: 0.0421\n",
      "\n",
      "Epoch 68:\n"
     ]
    },
    {
     "name": "stderr",
     "output_type": "stream",
     "text": [
      "Training: 100%|██████████| 1848/1848 [00:02<00:00, 636.70it/s]\n",
      "Validating: 100%|██████████| 102/102 [00:00<00:00, 2383.47it/s]\n"
     ]
    },
    {
     "name": "stdout",
     "output_type": "stream",
     "text": [
      "Epoch 68 train_loss: 0.0773, val_loss: 0.0404\n",
      "\n",
      "Epoch 69:\n"
     ]
    },
    {
     "name": "stderr",
     "output_type": "stream",
     "text": [
      "Training: 100%|██████████| 1848/1848 [00:02<00:00, 652.76it/s]\n",
      "Validating: 100%|██████████| 102/102 [00:00<00:00, 2366.58it/s]\n"
     ]
    },
    {
     "name": "stdout",
     "output_type": "stream",
     "text": [
      "Epoch 69 train_loss: 0.0755, val_loss: 0.0387\n",
      "\n",
      "Epoch 70:\n"
     ]
    },
    {
     "name": "stderr",
     "output_type": "stream",
     "text": [
      "Training: 100%|██████████| 1848/1848 [00:02<00:00, 651.81it/s]\n",
      "Validating: 100%|██████████| 102/102 [00:00<00:00, 2438.60it/s]\n"
     ]
    },
    {
     "name": "stdout",
     "output_type": "stream",
     "text": [
      "Epoch 70 train_loss: 0.0737, val_loss: 0.0371\n",
      "\n",
      "Epoch 71:\n"
     ]
    },
    {
     "name": "stderr",
     "output_type": "stream",
     "text": [
      "Training: 100%|██████████| 1848/1848 [00:02<00:00, 643.29it/s]\n",
      "Validating: 100%|██████████| 102/102 [00:00<00:00, 2324.86it/s]\n"
     ]
    },
    {
     "name": "stdout",
     "output_type": "stream",
     "text": [
      "Epoch 71 train_loss: 0.0720, val_loss: 0.0356\n",
      "\n",
      "Epoch 72:\n"
     ]
    },
    {
     "name": "stderr",
     "output_type": "stream",
     "text": [
      "Training: 100%|██████████| 1848/1848 [00:02<00:00, 648.02it/s]\n",
      "Validating: 100%|██████████| 102/102 [00:00<00:00, 2390.96it/s]\n"
     ]
    },
    {
     "name": "stdout",
     "output_type": "stream",
     "text": [
      "Epoch 72 train_loss: 0.0702, val_loss: 0.0341\n",
      "\n",
      "Epoch 73:\n"
     ]
    },
    {
     "name": "stderr",
     "output_type": "stream",
     "text": [
      "Training: 100%|██████████| 1848/1848 [00:02<00:00, 643.12it/s]\n",
      "Validating: 100%|██████████| 102/102 [00:00<00:00, 2442.92it/s]\n"
     ]
    },
    {
     "name": "stdout",
     "output_type": "stream",
     "text": [
      "Epoch 73 train_loss: 0.0685, val_loss: 0.0327\n",
      "\n",
      "Epoch 74:\n"
     ]
    },
    {
     "name": "stderr",
     "output_type": "stream",
     "text": [
      "Training: 100%|██████████| 1848/1848 [00:02<00:00, 644.87it/s]\n",
      "Validating: 100%|██████████| 102/102 [00:00<00:00, 2421.57it/s]\n"
     ]
    },
    {
     "name": "stdout",
     "output_type": "stream",
     "text": [
      "Epoch 74 train_loss: 0.0669, val_loss: 0.0313\n",
      "\n",
      "Epoch 75:\n"
     ]
    },
    {
     "name": "stderr",
     "output_type": "stream",
     "text": [
      "Training: 100%|██████████| 1848/1848 [00:02<00:00, 644.04it/s]\n",
      "Validating: 100%|██████████| 102/102 [00:00<00:00, 2368.15it/s]\n"
     ]
    },
    {
     "name": "stdout",
     "output_type": "stream",
     "text": [
      "Epoch 75 train_loss: 0.0652, val_loss: 0.0299\n",
      "\n",
      "Epoch 76:\n"
     ]
    },
    {
     "name": "stderr",
     "output_type": "stream",
     "text": [
      "Training: 100%|██████████| 1848/1848 [00:02<00:00, 642.37it/s]\n",
      "Validating: 100%|██████████| 102/102 [00:00<00:00, 2390.12it/s]\n"
     ]
    },
    {
     "name": "stdout",
     "output_type": "stream",
     "text": [
      "Epoch 76 train_loss: 0.0636, val_loss: 0.0287\n",
      "\n",
      "Epoch 77:\n"
     ]
    },
    {
     "name": "stderr",
     "output_type": "stream",
     "text": [
      "Training: 100%|██████████| 1848/1848 [00:02<00:00, 642.52it/s]\n",
      "Validating: 100%|██████████| 102/102 [00:00<00:00, 2404.00it/s]\n"
     ]
    },
    {
     "name": "stdout",
     "output_type": "stream",
     "text": [
      "Epoch 77 train_loss: 0.0621, val_loss: 0.0274\n",
      "\n",
      "Epoch 78:\n"
     ]
    },
    {
     "name": "stderr",
     "output_type": "stream",
     "text": [
      "Training: 100%|██████████| 1848/1848 [00:02<00:00, 644.13it/s]\n",
      "Validating: 100%|██████████| 102/102 [00:00<00:00, 2462.82it/s]\n"
     ]
    },
    {
     "name": "stdout",
     "output_type": "stream",
     "text": [
      "Epoch 78 train_loss: 0.0605, val_loss: 0.0262\n",
      "\n",
      "Epoch 79:\n"
     ]
    },
    {
     "name": "stderr",
     "output_type": "stream",
     "text": [
      "Training: 100%|██████████| 1848/1848 [00:02<00:00, 641.66it/s]\n",
      "Validating: 100%|██████████| 102/102 [00:00<00:00, 2424.41it/s]\n"
     ]
    },
    {
     "name": "stdout",
     "output_type": "stream",
     "text": [
      "Epoch 79 train_loss: 0.0590, val_loss: 0.0251\n",
      "\n",
      "Epoch 80:\n"
     ]
    },
    {
     "name": "stderr",
     "output_type": "stream",
     "text": [
      "Training: 100%|██████████| 1848/1848 [00:02<00:00, 647.38it/s]\n",
      "Validating: 100%|██████████| 102/102 [00:00<00:00, 2470.76it/s]\n"
     ]
    },
    {
     "name": "stdout",
     "output_type": "stream",
     "text": [
      "Epoch 80 train_loss: 0.0575, val_loss: 0.0240\n",
      "\n",
      "Epoch 81:\n"
     ]
    },
    {
     "name": "stderr",
     "output_type": "stream",
     "text": [
      "Training: 100%|██████████| 1848/1848 [00:02<00:00, 646.27it/s]\n",
      "Validating: 100%|██████████| 102/102 [00:00<00:00, 2415.83it/s]\n"
     ]
    },
    {
     "name": "stdout",
     "output_type": "stream",
     "text": [
      "Epoch 81 train_loss: 0.0560, val_loss: 0.0230\n",
      "\n",
      "Epoch 82:\n"
     ]
    },
    {
     "name": "stderr",
     "output_type": "stream",
     "text": [
      "Training: 100%|██████████| 1848/1848 [00:02<00:00, 650.17it/s]\n",
      "Validating: 100%|██████████| 102/102 [00:00<00:00, 2498.14it/s]\n"
     ]
    },
    {
     "name": "stdout",
     "output_type": "stream",
     "text": [
      "Epoch 82 train_loss: 0.0546, val_loss: 0.0220\n",
      "\n",
      "Epoch 83:\n"
     ]
    },
    {
     "name": "stderr",
     "output_type": "stream",
     "text": [
      "Training: 100%|██████████| 1848/1848 [00:02<00:00, 654.03it/s]\n",
      "Validating: 100%|██████████| 102/102 [00:00<00:00, 2478.34it/s]\n"
     ]
    },
    {
     "name": "stdout",
     "output_type": "stream",
     "text": [
      "Epoch 83 train_loss: 0.0532, val_loss: 0.0210\n",
      "\n",
      "Epoch 84:\n"
     ]
    },
    {
     "name": "stderr",
     "output_type": "stream",
     "text": [
      "Training: 100%|██████████| 1848/1848 [00:02<00:00, 648.34it/s]\n",
      "Validating: 100%|██████████| 102/102 [00:00<00:00, 2477.70it/s]\n"
     ]
    },
    {
     "name": "stdout",
     "output_type": "stream",
     "text": [
      "Epoch 84 train_loss: 0.0518, val_loss: 0.0201\n",
      "\n",
      "Epoch 85:\n"
     ]
    },
    {
     "name": "stderr",
     "output_type": "stream",
     "text": [
      "Training: 100%|██████████| 1848/1848 [00:02<00:00, 649.41it/s]\n",
      "Validating: 100%|██████████| 102/102 [00:00<00:00, 2460.70it/s]\n"
     ]
    },
    {
     "name": "stdout",
     "output_type": "stream",
     "text": [
      "Epoch 85 train_loss: 0.0504, val_loss: 0.0192\n",
      "\n",
      "Epoch 86:\n"
     ]
    },
    {
     "name": "stderr",
     "output_type": "stream",
     "text": [
      "Training: 100%|██████████| 1848/1848 [00:02<00:00, 648.61it/s]\n",
      "Validating: 100%|██████████| 102/102 [00:00<00:00, 2384.26it/s]\n"
     ]
    },
    {
     "name": "stdout",
     "output_type": "stream",
     "text": [
      "Epoch 86 train_loss: 0.0491, val_loss: 0.0184\n",
      "\n",
      "Epoch 87:\n"
     ]
    },
    {
     "name": "stderr",
     "output_type": "stream",
     "text": [
      "Training: 100%|██████████| 1848/1848 [00:02<00:00, 648.92it/s]\n",
      "Validating: 100%|██████████| 102/102 [00:00<00:00, 2409.99it/s]\n"
     ]
    },
    {
     "name": "stdout",
     "output_type": "stream",
     "text": [
      "Epoch 87 train_loss: 0.0478, val_loss: 0.0175\n",
      "\n",
      "Epoch 88:\n"
     ]
    },
    {
     "name": "stderr",
     "output_type": "stream",
     "text": [
      "Training: 100%|██████████| 1848/1848 [00:02<00:00, 649.03it/s]\n",
      "Validating: 100%|██████████| 102/102 [00:00<00:00, 2374.44it/s]\n"
     ]
    },
    {
     "name": "stdout",
     "output_type": "stream",
     "text": [
      "Epoch 88 train_loss: 0.0465, val_loss: 0.0168\n",
      "\n",
      "Epoch 89:\n"
     ]
    },
    {
     "name": "stderr",
     "output_type": "stream",
     "text": [
      "Training: 100%|██████████| 1848/1848 [00:02<00:00, 647.14it/s]\n",
      "Validating: 100%|██████████| 102/102 [00:00<00:00, 2271.18it/s]\n"
     ]
    },
    {
     "name": "stdout",
     "output_type": "stream",
     "text": [
      "Epoch 89 train_loss: 0.0453, val_loss: 0.0160\n",
      "\n",
      "Epoch 90:\n"
     ]
    },
    {
     "name": "stderr",
     "output_type": "stream",
     "text": [
      "Training: 100%|██████████| 1848/1848 [00:02<00:00, 641.50it/s]\n",
      "Validating: 100%|██████████| 102/102 [00:00<00:00, 2500.37it/s]\n"
     ]
    },
    {
     "name": "stdout",
     "output_type": "stream",
     "text": [
      "Epoch 90 train_loss: 0.0441, val_loss: 0.0153\n",
      "\n",
      "Epoch 91:\n"
     ]
    },
    {
     "name": "stderr",
     "output_type": "stream",
     "text": [
      "Training: 100%|██████████| 1848/1848 [00:02<00:00, 650.06it/s]\n",
      "Validating: 100%|██████████| 102/102 [00:00<00:00, 2545.48it/s]\n"
     ]
    },
    {
     "name": "stdout",
     "output_type": "stream",
     "text": [
      "Epoch 91 train_loss: 0.0429, val_loss: 0.0146\n",
      "\n",
      "Epoch 92:\n"
     ]
    },
    {
     "name": "stderr",
     "output_type": "stream",
     "text": [
      "Training: 100%|██████████| 1848/1848 [00:02<00:00, 646.19it/s]\n",
      "Validating: 100%|██████████| 102/102 [00:00<00:00, 2483.33it/s]\n"
     ]
    },
    {
     "name": "stdout",
     "output_type": "stream",
     "text": [
      "Epoch 92 train_loss: 0.0417, val_loss: 0.0140\n",
      "\n",
      "Epoch 93:\n"
     ]
    },
    {
     "name": "stderr",
     "output_type": "stream",
     "text": [
      "Training: 100%|██████████| 1848/1848 [00:02<00:00, 650.16it/s]\n",
      "Validating: 100%|██████████| 102/102 [00:00<00:00, 2435.81it/s]\n"
     ]
    },
    {
     "name": "stdout",
     "output_type": "stream",
     "text": [
      "Epoch 93 train_loss: 0.0406, val_loss: 0.0134\n",
      "\n",
      "Epoch 94:\n"
     ]
    },
    {
     "name": "stderr",
     "output_type": "stream",
     "text": [
      "Training: 100%|██████████| 1848/1848 [00:02<00:00, 652.46it/s]\n",
      "Validating: 100%|██████████| 102/102 [00:00<00:00, 2381.30it/s]\n"
     ]
    },
    {
     "name": "stdout",
     "output_type": "stream",
     "text": [
      "Epoch 94 train_loss: 0.0395, val_loss: 0.0128\n",
      "\n",
      "Epoch 95:\n"
     ]
    },
    {
     "name": "stderr",
     "output_type": "stream",
     "text": [
      "Training: 100%|██████████| 1848/1848 [00:02<00:00, 653.33it/s]\n",
      "Validating: 100%|██████████| 102/102 [00:00<00:00, 2461.19it/s]\n"
     ]
    },
    {
     "name": "stdout",
     "output_type": "stream",
     "text": [
      "Epoch 95 train_loss: 0.0384, val_loss: 0.0122\n",
      "\n",
      "Epoch 96:\n"
     ]
    },
    {
     "name": "stderr",
     "output_type": "stream",
     "text": [
      "Training: 100%|██████████| 1848/1848 [00:02<00:00, 650.99it/s]\n",
      "Validating: 100%|██████████| 102/102 [00:00<00:00, 2477.98it/s]\n"
     ]
    },
    {
     "name": "stdout",
     "output_type": "stream",
     "text": [
      "Epoch 96 train_loss: 0.0373, val_loss: 0.0117\n",
      "\n",
      "Epoch 97:\n"
     ]
    },
    {
     "name": "stderr",
     "output_type": "stream",
     "text": [
      "Training: 100%|██████████| 1848/1848 [00:02<00:00, 644.41it/s]\n",
      "Validating: 100%|██████████| 102/102 [00:00<00:00, 2136.29it/s]\n"
     ]
    },
    {
     "name": "stdout",
     "output_type": "stream",
     "text": [
      "Epoch 97 train_loss: 0.0363, val_loss: 0.0112\n",
      "\n",
      "Epoch 98:\n"
     ]
    },
    {
     "name": "stderr",
     "output_type": "stream",
     "text": [
      "Training: 100%|██████████| 1848/1848 [00:02<00:00, 645.70it/s]\n",
      "Validating: 100%|██████████| 102/102 [00:00<00:00, 2445.39it/s]\n"
     ]
    },
    {
     "name": "stdout",
     "output_type": "stream",
     "text": [
      "Epoch 98 train_loss: 0.0352, val_loss: 0.0107\n",
      "\n",
      "Epoch 99:\n"
     ]
    },
    {
     "name": "stderr",
     "output_type": "stream",
     "text": [
      "Training: 100%|██████████| 1848/1848 [00:02<00:00, 645.52it/s]\n",
      "Validating: 100%|██████████| 102/102 [00:00<00:00, 2471.54it/s]\n"
     ]
    },
    {
     "name": "stdout",
     "output_type": "stream",
     "text": [
      "Epoch 99 train_loss: 0.0342, val_loss: 0.0102\n",
      "\n",
      "Epoch 100:\n"
     ]
    },
    {
     "name": "stderr",
     "output_type": "stream",
     "text": [
      "Training: 100%|██████████| 1848/1848 [00:02<00:00, 650.17it/s]\n",
      "Validating: 100%|██████████| 102/102 [00:00<00:00, 2400.27it/s]\n"
     ]
    },
    {
     "name": "stdout",
     "output_type": "stream",
     "text": [
      "Epoch 100 train_loss: 0.0333, val_loss: 0.0098\n",
      "\n"
     ]
    },
    {
     "data": {
      "image/png": "[encoded data removed]",
      "text/plain": [
       "<Figure size 640x480 with 1 Axes>"
      ]
     },
     "metadata": {},
     "output_type": "display_data"
    }
   ],
   "source": [
    "import numpy as np\n",
    "import matplotlib.pyplot as plt\n",
    "\n",
    "# prepare datasets\n",
    "if TRAIN_ON_TRAIN:\n",
    "    dataset_train = tf.data.Dataset.from_tensor_slices(df_train_norm)\n",
    "else:\n",
    "    dataset_train = tf.data.Dataset.from_tensor_slices(df_all_norm)\n",
    "dataset_train = dataset_train.batch(batch_size=BATCH_SIZE, num_parallel_calls=tf.data.AUTOTUNE)\n",
    "dataset_train = dataset_train.prefetch(buffer_size=tf.data.AUTOTUNE)\n",
    "dataset_val = tf.data.Dataset.from_tensor_slices(df_val_norm)\n",
    "dataset_val = dataset_val.batch(batch_size=BATCH_SIZE, num_parallel_calls=tf.data.AUTOTUNE)\n",
    "dataset_val = dataset_val.prefetch(buffer_size=tf.data.AUTOTUNE)\n",
    "print('dataset prepared!')\n",
    "\n",
    "# build the model\n",
    "model = FunkSVDRecommender(m_users=M_USERS,\n",
    "                           n_items=N_ITEMS,\n",
    "                           bias_mu=BIAS_MU,\n",
    "                           embedding_size=EMBEDDING_SIZE,\n",
    "                           learning_rate=LEARNING_RATE,\n",
    "                           learning_rate_update=LEARNING_RATE_UPDATE,\n",
    "                           regularization_train=REGULARIZATION_TRAIN,\n",
    "                           regularization_update=REGULARIZATION_UPDATE,\n",
    "                           seed=SEED)\n",
    "print('model set!')\n",
    "\n",
    "# train the model\n",
    "train_losses = []\n",
    "val_losses = []\n",
    "\n",
    "for epoch in range(1, N_EPOCHS + 1):\n",
    "    train_loss = []\n",
    "    val_loss = []\n",
    "    print(f'Epoch {epoch}:')\n",
    "\n",
    "    # training\n",
    "    for data in tqdm(dataset_train, desc='Training'):\n",
    "        loss = model.train_step(data)\n",
    "        train_loss.append(loss.numpy())\n",
    "\n",
    "    # validating\n",
    "    for data in tqdm(dataset_val, desc='Validating'):\n",
    "        loss = model.val_step(data)\n",
    "        val_loss.append(loss.numpy())\n",
    "\n",
    "    # record losses\n",
    "    avg_train_loss = np.mean(train_loss)\n",
    "    avg_val_loss = np.mean(val_loss)\n",
    "    train_losses.append(avg_train_loss)\n",
    "    val_losses.append(avg_val_loss)\n",
    "\n",
    "    # print losses\n",
    "    print(f'Epoch {epoch} train_loss: {avg_train_loss:.4f}, val_loss: {avg_val_loss:.4f}\\n')\n",
    "\n",
    "# plot the training curve\n",
    "plt.plot(train_losses, label='train_loss')\n",
    "plt.plot(val_losses, label='val_loss')\n",
    "plt.legend(loc='upper right')\n",
    "plt.title('Loss curve')\n",
    "plt.show()\n"
   ]
  },
  {
   "attachments": {},
   "cell_type": "markdown",
   "metadata": {},
   "source": [
    "## Evaluate the model with the validation set"
   ]
  },
  {
   "cell_type": "code",
   "execution_count": 16,
   "metadata": {},
   "outputs": [
    {
     "name": "stderr",
     "output_type": "stream",
     "text": [
      "Evaluating: 100%|██████████| 52089/52089 [01:59<00:00, 434.78it/s]\n"
     ]
    },
    {
     "name": "stdout",
     "output_type": "stream",
     "text": [
      "Evaluation result: [NDCG@10: 0.081139, Recall@10: 0.190541]\n"
     ]
    }
   ],
   "source": [
    "dataset_eval = tf.data.Dataset.from_tensor_slices(df_val)\n",
    "dataset_eval = dataset_eval.prefetch(buffer_size=tf.data.AUTOTUNE)\n",
    "ndcg_result, recall_result = evaluate(model, dataset_eval)\n",
    "print(f'Evaluation result: [NDCG@10: {ndcg_result:.6f}, Recall@10: {recall_result:.6f}]')\n"
   ]
  },
  {
   "attachments": {},
   "cell_type": "markdown",
   "metadata": {},
   "source": [
    "## Save the model"
   ]
  },
  {
   "cell_type": "code",
   "execution_count": 17,
   "metadata": {},
   "outputs": [
    {
     "name": "stdout",
     "output_type": "stream",
     "text": [
      "INFO:tensorflow:Assets written to: funksvd_model/assets\n"
     ]
    }
   ],
   "source": [
    "# save the model\n",
    "model.save('funksvd_model')\n"
   ]
  },
  {
   "cell_type": "code",
   "execution_count": 18,
   "metadata": {},
   "outputs": [
    {
     "name": "stdout",
     "output_type": "stream",
     "text": [
      "/home/anitalin/.bashrc: line 5: bind: warning: line editing not enabled\n",
      "2 Physical GPUs, 1 Logical GPUs\n",
      "Loading dataset from dataset/ratings_train.csv\n",
      "Generating validation set: 100%|██████████| 6040/6040 [00:05<00:00, 1029.99it/s]\n",
      "Loading model from funksvd_model/\n",
      "WARNING:tensorflow:No training configuration found in save file, so the model was *not* compiled. Compile it manually.\n",
      "Evaluating: 100%|████████████████████████| 52089/52089 [02:00<00:00, 432.50it/s]\n",
      "Evaluation result: [NDCG@10: 0.096527, Recall@10: 0.213135]\n"
     ]
    }
   ],
   "source": [
    "!python evaluate_sample.py dataset/ratings_train.csv funksvd_model/\n"
   ]
  },
  {
   "attachments": {},
   "cell_type": "markdown",
   "metadata": {},
   "source": [
    "## Report\n",
    "### I. Models have tried during the competition.\n",
    "- **FunkSVD**  \n",
    "    FunkSVD是在Netflix電影推薦比賽中脫穎而出的一個推薦系統方法，為了簡化運算把傳統SVD的三個矩陣分解成兩個矩陣${P}^T_{mxk} Q_{kxn}$相乘來得到預測的Rating矩陣，其中m是user數量，n是item數量，k是factor數量（即可調整的embedding size)，相乘後的預測rating矩陣和已知rating相比計算loss function，並進一步以gradient descent來更新P和Q。這個方法相當間單，且速度快有一定的正確率。\n",
    "    而在我們的實作當中，將原本的架構加入了bias term來模擬一些非典型用戶的行為或是經典電影給分分佈較特別的狀況，bias分成$b_u$和$b_i$兩項，分別表示user $u$ 和item $i$ 偏離平均的分數。舉例來說可能有人對電影比較嚴格，給的分數相對較低，或是某經典電影大家都給很高分，在這種狀況之下，喜好程度的狀況必須加上個別user和item的bias term才是真正的rating值。\n",
    "  \n",
    "- **Fatorization Machine**  \n",
    "    另外我們也嘗試過Factorization Machine，是一種Model based的推薦系統，這個model的優勢在於能有效解決稀疏資料的特徵組合問題，時間複雜度也控制在linear time。\n",
    "    在FM的feature vector中由多個欄位所組成，包含了UserID, MovieID, OtherMovieRated, Time, LastMovieRated, Target，其中UserID, MovieID以OneHot來對原本的數值encode，OtherMovieRated是將該用戶有rated的幾個OneHot欄位為1的位置除上看過電影的數量，Time是將原本unix timestamp轉乘datetime之後，由2000年1月開始計算月份數量，而lastMovieRated是前一部電影的OneHot encoding值，Target即為原本的rating值，從下圖中可以看到，他會是一個相當稀疏的矩陣。\n",
    "      \n",
    "    ![](fm.png)\n",
    "      \n",
    "    而model equation可近似成 $\\hat{y}(x)=w_o+\\sum^n_{i=1}w_ix_i+\\sum^n_{i=1}\\sum^n_{j=i+1}⟨v_i ,v_j⟩x_ix_j$，其中$⟨v_i ,v_j⟩$ 模擬第i和第j項的interaction，假設兩user對同部電影有相似評分，他們的user的factor vector就會相似，若同一個user對其中幾部電影有相似的評分，代表這些電影應該有些同質性，其factor vector應該也會相似。\n",
    "    \n",
    "### II. Experiments have done\n",
    "- **FunkSVD**  \n",
    "    對於funkSVD，我們將hyperparameter拿出來實驗，其中包含了embedding size, batch size, learning rate, 以及在update model時所使用的learning rate等等參數，另外也曾經在loss function中加入l2_norm term。在funkSVD的中加入update model的方式和train model時的方法相同，拿到當下的data計算其loss function並更新trainable variables。\n",
    "    而在實驗結果上顯示，越大的embedding size其learning rate越小結果會更好，但調整embedding size對於整體的performance沒有太大的影響，我們最終是以embedding size = 256，搭配update model的方式在evaluation round4拿掉不錯的成績。另外針對update model時的learning rate我們也調整成較小一些的數字，在final round是以embedding size = 512，learning rate = 2e-5，update learning rate = 1e-5，最後出來的成績卻沒有理想中更好，是較為可惜的部分。\n",
    "  \n",
    "- **Fatorization Machine**  \n",
    "    對於Factorization Machine的實驗，我們一開始實作上建立feature vector 就遇到了一些困難，原因是若在一開始就將userID, MovieID等等的數值以OneHot爆開並建立表格，會佔用掉的memory資源相當多，導致在我們的server上kernel crash掉的狀況，因此後來改變寫法，將feature vector中每一個row所需要的原始數值傳入dataset map function，再從map function中套用OneHot來展開後續需要用來做計算的矩陣。\n",
    "    但是在後續的實作上發現其效果沒有funckSVD來得好，就算比起funkSVD多加入了timestamp的資訊做出的效果仍然比較差，因此最後沒有採用這種model作為最終的作法。\n",
    "\n",
    "### III. Discussions\n",
    "- **Lesson Learned**  \n",
    "    這次的competition有嘗試去實作不同的recommendation system，由於有些碰壁和memory的限制問題，花了點時間才將FM實作出來。對䱷我們遇到的實作問題，我們有從memory上著手，降低資料的精度，也嘗試將FM中OtherMovieRating項的浮點數放大轉成整數來處理，也曾經使用寫出讀入一個一個row的pickle檔來解決memory上的問題，最後以map function解決這個問題。\n",
    "      \n",
    "- **Conclusion**  \n",
    "   對於這次推薦系統的contest中，如果只調整model，而沒有去考量更多可能improve performance機會的方式可能較難達到好的結果，我們認為update model的方式可能是造成performance上升的主要原因，若能透過看到的data，已知越多的情況之下，用更精準的方式來更新model拿到更接近ground truth的rating，應該可以有更好的成果。\n",
    "   另外針對一些沒有被拿出來使用的data，像是user的資訊，item(movie)的分類，可能可以再多做一些處理，加入model來增加預測時參考的對象，可惜在耗費太多時間在實作其他推薦系統，是比較可惜的部分。\n",
    "    "
   ]
  }
 ],
 "metadata": {
  "kernelspec": {
   "display_name": "dl",
   "language": "python",
   "name": "python3"
  },
  "language_info": {
   "codemirror_mode": {
    "name": "ipython",
    "version": 3
   },
   "file_extension": ".py",
   "mimetype": "text/x-python",
   "name": "python",
   "nbconvert_exporter": "python",
   "pygments_lexer": "ipython3",
   "version": "3.9.13 (main, Oct 13 2022, 21:23:06) [MSC v.1916 64 bit (AMD64)]"
  },
  "orig_nbformat": 4,
  "vscode": {
   "interpreter": {
    "hash": "223e9936df39123efbb617b59821fa9903b74f50e310a538397c4da2f638e6c2"
   }
  }
 },
 "nbformat": 4,
 "nbformat_minor": 2
}
